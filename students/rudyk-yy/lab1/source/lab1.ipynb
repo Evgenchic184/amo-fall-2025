{
 "cells": [
  {
   "cell_type": "code",
   "execution_count": 7,
   "id": "cd81bc61",
   "metadata": {},
   "outputs": [],
   "source": [
    "import numpy as np\n",
    "from optimizer.nesterov import Nesterov\n",
    "from loss.LogLoss import LogLoss\n",
    "from sklearn.model_selection import train_test_split\n",
    "from sklearn.preprocessing import StandardScaler\n",
    "import pandas as pd\n",
    "from sklearn.metrics import accuracy_score\n",
    "import numpy as np"
   ]
  },
  {
   "cell_type": "code",
   "execution_count": 4,
   "id": "6d96d294",
   "metadata": {},
   "outputs": [],
   "source": [
    "url = \"https://raw.githubusercontent.com/datasciencedojo/datasets/master/titanic.csv\"\n",
    "df = pd.read_csv(url)\n",
    "\n",
    "features = ['Pclass', 'Sex', 'Age', 'SibSp', 'Parch', 'Fare', 'Embarked']\n",
    "X = df[features].copy()\n",
    "y = df['Survived']\n",
    "\n",
    "X['Age'] = X['Age'].fillna(X['Age'].median())\n",
    "X['Age'] = pd.cut(\n",
    "    X['Age'],\n",
    "    bins=[0, 12, 18, 60, 120],\n",
    "    labels=[0, 1, 2, 3]\n",
    ").astype(int)\n",
    "X['Embarked'] = X['Embarked'].fillna('S')  \n",
    "\n",
    "X['Sex'] = X['Sex'].map({'male': 0, 'female': 1})\n",
    "X['Embarked'] = X['Embarked'].map({'S': 0, 'C': 1, 'Q': 2})\n",
    "\n",
    "scaler = StandardScaler()\n",
    "X[['SibSp', 'Parch', 'Fare']] = scaler.fit_transform(X[['SibSp', 'Parch', 'Fare']])"
   ]
  },
  {
   "cell_type": "code",
   "execution_count": 3,
   "id": "18a89e5b",
   "metadata": {},
   "outputs": [
    {
     "data": {
      "text/html": [
       "<div>\n",
       "<style scoped>\n",
       "    .dataframe tbody tr th:only-of-type {\n",
       "        vertical-align: middle;\n",
       "    }\n",
       "\n",
       "    .dataframe tbody tr th {\n",
       "        vertical-align: top;\n",
       "    }\n",
       "\n",
       "    .dataframe thead th {\n",
       "        text-align: right;\n",
       "    }\n",
       "</style>\n",
       "<table border=\"1\" class=\"dataframe\">\n",
       "  <thead>\n",
       "    <tr style=\"text-align: right;\">\n",
       "      <th></th>\n",
       "      <th>PassengerId</th>\n",
       "      <th>Survived</th>\n",
       "      <th>Pclass</th>\n",
       "      <th>Age</th>\n",
       "      <th>SibSp</th>\n",
       "      <th>Parch</th>\n",
       "      <th>Fare</th>\n",
       "    </tr>\n",
       "  </thead>\n",
       "  <tbody>\n",
       "    <tr>\n",
       "      <th>count</th>\n",
       "      <td>891.000000</td>\n",
       "      <td>891.000000</td>\n",
       "      <td>891.000000</td>\n",
       "      <td>714.000000</td>\n",
       "      <td>891.000000</td>\n",
       "      <td>891.000000</td>\n",
       "      <td>891.000000</td>\n",
       "    </tr>\n",
       "    <tr>\n",
       "      <th>mean</th>\n",
       "      <td>446.000000</td>\n",
       "      <td>0.383838</td>\n",
       "      <td>2.308642</td>\n",
       "      <td>29.699118</td>\n",
       "      <td>0.523008</td>\n",
       "      <td>0.381594</td>\n",
       "      <td>32.204208</td>\n",
       "    </tr>\n",
       "    <tr>\n",
       "      <th>std</th>\n",
       "      <td>257.353842</td>\n",
       "      <td>0.486592</td>\n",
       "      <td>0.836071</td>\n",
       "      <td>14.526497</td>\n",
       "      <td>1.102743</td>\n",
       "      <td>0.806057</td>\n",
       "      <td>49.693429</td>\n",
       "    </tr>\n",
       "    <tr>\n",
       "      <th>min</th>\n",
       "      <td>1.000000</td>\n",
       "      <td>0.000000</td>\n",
       "      <td>1.000000</td>\n",
       "      <td>0.420000</td>\n",
       "      <td>0.000000</td>\n",
       "      <td>0.000000</td>\n",
       "      <td>0.000000</td>\n",
       "    </tr>\n",
       "    <tr>\n",
       "      <th>25%</th>\n",
       "      <td>223.500000</td>\n",
       "      <td>0.000000</td>\n",
       "      <td>2.000000</td>\n",
       "      <td>20.125000</td>\n",
       "      <td>0.000000</td>\n",
       "      <td>0.000000</td>\n",
       "      <td>7.910400</td>\n",
       "    </tr>\n",
       "    <tr>\n",
       "      <th>50%</th>\n",
       "      <td>446.000000</td>\n",
       "      <td>0.000000</td>\n",
       "      <td>3.000000</td>\n",
       "      <td>28.000000</td>\n",
       "      <td>0.000000</td>\n",
       "      <td>0.000000</td>\n",
       "      <td>14.454200</td>\n",
       "    </tr>\n",
       "    <tr>\n",
       "      <th>75%</th>\n",
       "      <td>668.500000</td>\n",
       "      <td>1.000000</td>\n",
       "      <td>3.000000</td>\n",
       "      <td>38.000000</td>\n",
       "      <td>1.000000</td>\n",
       "      <td>0.000000</td>\n",
       "      <td>31.000000</td>\n",
       "    </tr>\n",
       "    <tr>\n",
       "      <th>max</th>\n",
       "      <td>891.000000</td>\n",
       "      <td>1.000000</td>\n",
       "      <td>3.000000</td>\n",
       "      <td>80.000000</td>\n",
       "      <td>8.000000</td>\n",
       "      <td>6.000000</td>\n",
       "      <td>512.329200</td>\n",
       "    </tr>\n",
       "  </tbody>\n",
       "</table>\n",
       "</div>"
      ],
      "text/plain": [
       "       PassengerId    Survived      Pclass         Age       SibSp  \\\n",
       "count   891.000000  891.000000  891.000000  714.000000  891.000000   \n",
       "mean    446.000000    0.383838    2.308642   29.699118    0.523008   \n",
       "std     257.353842    0.486592    0.836071   14.526497    1.102743   \n",
       "min       1.000000    0.000000    1.000000    0.420000    0.000000   \n",
       "25%     223.500000    0.000000    2.000000   20.125000    0.000000   \n",
       "50%     446.000000    0.000000    3.000000   28.000000    0.000000   \n",
       "75%     668.500000    1.000000    3.000000   38.000000    1.000000   \n",
       "max     891.000000    1.000000    3.000000   80.000000    8.000000   \n",
       "\n",
       "            Parch        Fare  \n",
       "count  891.000000  891.000000  \n",
       "mean     0.381594   32.204208  \n",
       "std      0.806057   49.693429  \n",
       "min      0.000000    0.000000  \n",
       "25%      0.000000    7.910400  \n",
       "50%      0.000000   14.454200  \n",
       "75%      0.000000   31.000000  \n",
       "max      6.000000  512.329200  "
      ]
     },
     "execution_count": 3,
     "metadata": {},
     "output_type": "execute_result"
    }
   ],
   "source": [
    "df.describe()"
   ]
  },
  {
   "cell_type": "code",
   "execution_count": 5,
   "id": "14eddbfc",
   "metadata": {},
   "outputs": [
    {
     "data": {
      "image/png": "[encoded data removed]",
      "text/plain": [
       "<Figure size 640x480 with 1 Axes>"
      ]
     },
     "metadata": {},
     "output_type": "display_data"
    }
   ],
   "source": [
    "from sklearn.manifold import TSNE\n",
    "from sklearn.datasets import load_iris\n",
    "import pandas as pd\n",
    "import seaborn as sns\n",
    "import matplotlib.pyplot as plt\n",
    "tsne = TSNE(n_components=2, perplexity=30, random_state=42)\n",
    "X.dropna(inplace=True)  # Ensure there are no NaN values\n",
    "y = y[X.index]  # Align y with the cleaned X\n",
    "X_embedded = tsne.fit_transform(X)\n",
    "\n",
    "# Put results into a DataFrame for plotting\n",
    "df2 = pd.DataFrame({\n",
    "    'TSNE1': X_embedded[:, 0],\n",
    "    'TSNE2': X_embedded[:, 1],\n",
    "    'label': y\n",
    "})\n",
    "\n",
    "# Plot with Seaborn\n",
    "sns.scatterplot(data=df2, x='TSNE1', y='TSNE2', hue='label', palette='deep')\n",
    "plt.title(\"t-SNE Visualization (Iris Dataset)\")\n",
    "plt.show()"
   ]
  },
  {
   "cell_type": "code",
   "execution_count": 9,
   "id": "2d4ff465",
   "metadata": {},
   "outputs": [
    {
     "data": {
      "text/plain": [
       "array([-1,  1])"
      ]
     },
     "execution_count": 9,
     "metadata": {},
     "output_type": "execute_result"
    }
   ],
   "source": [
    "y[y == 0] = -1  \n",
    "np.unique(y)"
   ]
  },
  {
   "cell_type": "code",
   "execution_count": 15,
   "id": "5d309760",
   "metadata": {},
   "outputs": [
    {
     "data": {
      "text/plain": [
       "<BarContainer object of 2 artists>"
      ]
     },
     "execution_count": 15,
     "metadata": {},
     "output_type": "execute_result"
    },
    {
     "data": {
      "image/png": "[encoded data removed]",
      "text/plain": [
       "<Figure size 640x480 with 1 Axes>"
      ]
     },
     "metadata": {},
     "output_type": "display_data"
    }
   ],
   "source": [
    "counts = y.value_counts()\n",
    "\n",
    "plt.bar(counts.index.astype(str), counts.values, color=['#3498db', '#2ecc71'], edgecolor='black')\n"
   ]
  },
  {
   "cell_type": "code",
   "execution_count": null,
   "id": "b0f941ed",
   "metadata": {},
   "outputs": [
    {
     "name": "stdout",
     "output_type": "stream",
     "text": [
      "[-1  1]\n"
     ]
    },
    {
     "data": {
      "text/plain": [
       "(623,)"
      ]
     },
     "execution_count": 7,
     "metadata": {},
     "output_type": "execute_result"
    }
   ],
   "source": [
    "\n",
    "X_train, X_test, y_train, y_test = train_test_split(X,y, test_size=0.3, random_state=42)"
   ]
  },
  {
   "cell_type": "code",
   "execution_count": 8,
   "id": "63c6b1fe",
   "metadata": {},
   "outputs": [
    {
     "data": {
      "text/plain": [
       "623"
      ]
     },
     "execution_count": 8,
     "metadata": {},
     "output_type": "execute_result"
    }
   ],
   "source": [
    "len(y_train)"
   ]
  },
  {
   "cell_type": "code",
   "execution_count": 9,
   "id": "ed130351",
   "metadata": {},
   "outputs": [],
   "source": [
    "y_train = y_train.to_numpy()\n",
    "y_test = y_test.to_numpy()"
   ]
  },
  {
   "cell_type": "code",
   "execution_count": null,
   "id": "ef48888d",
   "metadata": {},
   "outputs": [],
   "source": [
    "from optimizer.nesterov import Nesterov\n",
    "from optimizer.momentum import Momentum\n",
    "from optimizer.sgd import SgdOptimizer\n",
    "from loss.LogLoss import LogLoss\n",
    "import numpy as np\n",
    "from classifier.sgd_classifier import SGDClassifier\n",
    "a = SGDClassifier(learning_rate=0.01, n_iterations= 1000, optimizer=Momentum(gamma=0.9), loss=LogLoss(), weight_init='multi', penalty=None, ordering =\"margin-first\", lambd=0.5, use_bias=True)\n",
    "\n",
    "\n",
    "a.fit(X_train.to_numpy(), y_train)\n",
    "result =a.predict(X_test)\n",
    "TP=0\n",
    "FN=0\n",
    "FP=0\n",
    "TN=0\n",
    "for i in range(len(result)):\n",
    "    if result[i]==1 and y_test[i]==1:\n",
    "        TP+=1\n",
    "    elif result[i]==1 and y_test[i]==-1:\n",
    "        FP+=1\n",
    "    elif result[i]==-1 and y_test[i]==1:\n",
    "        FN+=1\n",
    "    elif result[i]==-1 and y_test[i]==-1:\n",
    "        TN+=1\n",
    "accuracy=(TP+TN)/(TP+TN+FP+FN)\n",
    "print(\"Accuracy:\", accuracy)\n",
    "\n",
    "confusion_matrix = np.array([[TP, FP], [FN, TN]])\n",
    "print(\"Confusion Matrix:\\n\", confusion_matrix)\n",
    "\n",
    "print(a.losses)\n",
    "\n",
    "    \n"
   ]
  },
  {
   "cell_type": "code",
   "execution_count": null,
   "id": "b710f46e",
   "metadata": {},
   "outputs": [],
   "source": [
    "for ordering in ('random', 'margin-first'):\n",
    "    for weight_init in ('random', 'multi', 'correlation'):\n",
    "        for optimizer_class in (Nesterov, SgdOptimizer, Momentum):\n",
    "            a = SGDClassifier(\n",
    "                learning_rate=0.01,\n",
    "                n_iterations=1000,\n",
    "                optimizer=optimizer_class(gamma=0.9),\n",
    "                loss=LogLoss(),\n",
    "                weight_init=weight_init,\n",
    "                penalty=\"l2\",\n",
    "                ordering=ordering,\n",
    "                lambd=0.5,\n",
    "                use_bias=True\n",
    "            )\n",
    "            \n",
    "            a.fit(X_train.to_numpy(), y_train)\n",
    "            result = a.predict(X_test)\n",
    "\n",
    "            # Рисуем график\n",
    "            plt.figure(figsize=(6, 4))\n",
    "            plt.plot(a.losses)\n",
    "            plt.title(f\"{optimizer_class.__name__} | init={weight_init} | order={ordering}\")\n",
    "            plt.xlabel(\"Iteration\")\n",
    "            plt.ylabel(\"Loss\")\n",
    "\n",
    "            # Сохраняем\n",
    "            filename = f\"loss_{optimizer_class.__name__}_{weight_init}_{ordering}.png\"\n",
    "            plt.savefig(filename, dpi=300, bbox_inches='tight')\n",
    "            plt.close()"
   ]
  },
  {
   "cell_type": "code",
   "execution_count": null,
   "id": "3452b70e",
   "metadata": {},
   "outputs": [],
   "source": [
    "from sklearn.linear_model import SGDClassifier\n",
    "from sklearn.metrics import log_loss, hinge_loss\n",
    "print(np.unique(y), y.dtype)\n",
    "clf = SGDClassifier(\n",
    "    loss='log_loss',      \n",
    "    learning_rate='constant',\n",
    "    eta0=0.01,\n",
    "    penalty='l2',\n",
    "    random_state=42,\n",
    "    warm_start=True  \n",
    ")\n",
    "\n",
    "loss_history = []\n",
    "\n",
    "# Train for multiple epochs\n",
    "for epoch in range(1000):\n",
    "    clf.partial_fit(X, y, classes=np.unique(y))\n",
    "    # Compute average log loss on the training set\n",
    "    y_pred_proba = clf.predict_proba(X)\n",
    "    current_loss = log_loss(y, y_pred_proba)\n",
    "    # Log loss formula manually since sklearn SGD may not store it\n",
    "    loss_history.append(current_loss)\n",
    "\n",
    "# Plot\n",
    "plt.plot(loss_history)\n",
    "plt.xlabel(\"Epoch\")\n",
    "plt.ylabel(\"Log Loss\")\n",
    "plt.title(\"Loss per Epoch\")\n",
    "plt.show()\n",
    "result_sklearn = clf.predict(X_test)\n",
    "\n",
    "\n"
   ]
  },
  {
   "cell_type": "code",
   "execution_count": null,
   "id": "62a4396a",
   "metadata": {},
   "outputs": [],
   "source": [
    "TP=0\n",
    "FN=0\n",
    "FP=0\n",
    "TN=0\n",
    "for i in range(len(result)):\n",
    "    if result[i]==1 and y_test[i]==1:\n",
    "        TP+=1\n",
    "    elif result[i]==1 and y_test[i]==-1:\n",
    "        FP+=1\n",
    "    elif result[i]==-1 and y_test[i]==1:\n",
    "        FN+=1\n",
    "    elif result[i]==-1 and y_test[i]==-1:\n",
    "        TN+=1\n",
    "accuracy=(TP+TN)/(TP+TN+FP+FN)\n",
    "print(\"Accuracy:\", accuracy)\n",
    "confusion_matrix = np.array([[TP, FP], [FN, TN]])\n",
    "print(\"Confusion Matrix:\\n\", confusion_matrix)\n"
   ]
  },
  {
   "cell_type": "code",
   "execution_count": null,
   "id": "d953f214",
   "metadata": {},
   "outputs": [],
   "source": [
    "TP=0\n",
    "FN=0\n",
    "FP=0\n",
    "TN=0\n",
    "for i in range(len(result_sklearn)):\n",
    "    if result_sklearn[i]==1 and y_test[i]==1:\n",
    "        TP+=1\n",
    "    elif result_sklearn[i]==1 and y_test[i]==-1:\n",
    "        FP+=1\n",
    "    elif result_sklearn[i]==-1 and y_test[i]==1:\n",
    "        FN+=1\n",
    "    elif result_sklearn[i]==-1 and y_test[i]==-1:\n",
    "        TN+=1\n",
    "accuracy=(TP+TN)/(TP+TN+FP+FN)\n",
    "print(\"Accuracy:\", accuracy)\n",
    "confusion_matrix = np.array([[TP, FP], [FN, TN]])\n",
    "print(\"Confusion Matrix:\\n\", confusion_matrix)"
   ]
  },
  {
   "cell_type": "code",
   "execution_count": 34,
   "id": "59bd651e",
   "metadata": {},
   "outputs": [],
   "source": [
    "X_test = X_test[:, :-1]"
   ]
  },
  {
   "cell_type": "code",
   "execution_count": 27,
   "id": "a31aa8b3",
   "metadata": {},
   "outputs": [],
   "source": [
    "X_test = np.hstack([X_test, np.ones((X_test.shape[0], 1))])\n"
   ]
  },
  {
   "cell_type": "code",
   "execution_count": null,
   "id": "2dd7b9c0",
   "metadata": {},
   "outputs": [],
   "source": [
    "X_test_2 = np.hstack([X_test, np.ones((X_test.shape[0], 1))])\n",
    "margins = y_test * (X_test_2 @ a.weights)\n",
    "sorted_margins = margins[np.argsort(margins)]\n",
    "\n",
    "plt.figure(figsize=(12, 8))\n",
    "plt.plot(range(len(sorted_margins)), sorted_margins, 'b-', linewidth=3)\n",
    "\n",
    "n_points = len(sorted_margins)\n",
    "x_range = np.arange(n_points)\n",
    "\n",
    "threshold = 1.2\n",
    "noisy = sorted_margins < -threshold  \n",
    "borderline = (sorted_margins >= -threshold) & (sorted_margins <= threshold)\n",
    "reliable = sorted_margins > threshold\n",
    "plt.fill_between(x_range[noisy], sorted_margins[noisy], 0, \n",
    "                     color='red', alpha=0.3, label='Шумовые')\n",
    "plt.fill_between(x_range[borderline], sorted_margins[borderline], 0, \n",
    "                     color='yellow', alpha=0.3, label='Пограничные')\n",
    "plt.fill_between(x_range[reliable], sorted_margins[reliable], 0, \n",
    "                     color='green', alpha=0.3, label='Надёжные') \n",
    "\n",
    "\n",
    "plt.xlabel('i')\n",
    "plt.ylabel('Margin')\n",
    "plt.title('Ранжирование объектов по возрастанию отступов')\n",
    "plt.legend()\n",
    "plt.grid(True, alpha=0.5)\n",
    "plt.show()"
   ]
  }
 ],
 "metadata": {
  "kernelspec": {
   "display_name": ".venv",
   "language": "python",
   "name": "python3"
  },
  "language_info": {
   "codemirror_mode": {
    "name": "ipython",
    "version": 3
   },
   "file_extension": ".py",
   "mimetype": "text/x-python",
   "name": "python",
   "nbconvert_exporter": "python",
   "pygments_lexer": "ipython3",
   "version": "3.11.9"
  }
 },
 "nbformat": 4,
 "nbformat_minor": 5
}
