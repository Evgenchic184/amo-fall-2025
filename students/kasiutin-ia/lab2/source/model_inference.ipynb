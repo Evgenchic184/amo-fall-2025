{
 "cells": [
  {
   "cell_type": "code",
   "execution_count": 1,
   "id": "19f70578",
   "metadata": {},
   "outputs": [],
   "source": [
    "%load_ext autoreload"
   ]
  },
  {
   "cell_type": "code",
   "execution_count": 2,
   "id": "0e3681be",
   "metadata": {},
   "outputs": [],
   "source": [
    "%autoreload 2"
   ]
  },
  {
   "cell_type": "code",
   "execution_count": 3,
   "id": "746082a8",
   "metadata": {},
   "outputs": [],
   "source": [
    "import pandas as pd\n",
    "import numpy as np\n",
    "from knn import ParzenKNN, EuclideanMetric\n",
    "from sklearn.datasets import make_classification\n",
    "from sklearn.model_selection import train_test_split\n",
    "from utils import LOO_grid_search, get_distance_matrix, kernel_function"
   ]
  },
  {
   "cell_type": "code",
   "execution_count": 4,
   "id": "2333bc4e",
   "metadata": {},
   "outputs": [],
   "source": [
    "dataset = pd.read_csv(\"processed_dataset.csv\", index_col=0)\n",
    "dataset = dataset.drop_duplicates()  # чтобы не было двух одинаковых точек (тогда dist=0)\n",
    "\n",
    "X = dataset.drop(columns=\"RainTomorrow\").to_numpy()\n",
    "y = dataset[\"RainTomorrow\"].to_numpy()\n",
    "\n",
    "X_train, X_test, y_train, y_test = train_test_split(X, y, test_size=0.2, random_state=42)"
   ]
  },
  {
   "cell_type": "code",
   "execution_count": 10,
   "id": "60f15c16",
   "metadata": {},
   "outputs": [
    {
     "name": "stderr",
     "output_type": "stream",
     "text": [
      "100%|██████████| 1000/1000 [00:25<00:00, 38.70it/s]\n",
      "100%|██████████| 1000/1000 [00:28<00:00, 35.67it/s]\n",
      "100%|██████████| 1000/1000 [00:45<00:00, 21.99it/s]\n",
      "100%|██████████| 1000/1000 [00:27<00:00, 36.21it/s]\n",
      "100%|██████████| 1000/1000 [00:26<00:00, 37.89it/s]\n",
      "100%|██████████| 1000/1000 [00:26<00:00, 37.69it/s]\n",
      "100%|██████████| 1000/1000 [00:19<00:00, 51.36it/s]\n"
     ]
    }
   ],
   "source": [
    "params = {\"k\": [1, 2, 5, 10, 50, 75, 100], \"metric_estimator\": [EuclideanMetric()], \"kernel_function\": [kernel_function]}\n",
    "\n",
    "best_params = LOO_grid_search(ParzenKNN, params, X_train, y_train)"
   ]
  },
  {
   "cell_type": "code",
   "execution_count": 11,
   "id": "60248511",
   "metadata": {},
   "outputs": [
    {
     "data": {
      "text/plain": [
       "{'best_params': {'k': 50,\n",
       "  'metric_estimator': <knn.EuclideanMetric at 0x1d9d12f4cb0>,\n",
       "  'kernel_function': <function utils.kernel_function(kernel_arg: 'float') -> 'float'>},\n",
       " 'best_score': 0.846,\n",
       " 'results': [{'params': {'k': 1,\n",
       "    'metric_estimator': <knn.EuclideanMetric at 0x1d9d12f4cb0>,\n",
       "    'kernel_function': <function utils.kernel_function(kernel_arg: 'float') -> 'float'>},\n",
       "   'score': 0.78},\n",
       "  {'params': {'k': 2,\n",
       "    'metric_estimator': <knn.EuclideanMetric at 0x1d9d12f4cb0>,\n",
       "    'kernel_function': <function utils.kernel_function(kernel_arg: 'float') -> 'float'>},\n",
       "   'score': 0.756},\n",
       "  {'params': {'k': 5,\n",
       "    'metric_estimator': <knn.EuclideanMetric at 0x1d9d12f4cb0>,\n",
       "    'kernel_function': <function utils.kernel_function(kernel_arg: 'float') -> 'float'>},\n",
       "   'score': 0.816},\n",
       "  {'params': {'k': 10,\n",
       "    'metric_estimator': <knn.EuclideanMetric at 0x1d9d12f4cb0>,\n",
       "    'kernel_function': <function utils.kernel_function(kernel_arg: 'float') -> 'float'>},\n",
       "   'score': 0.826},\n",
       "  {'params': {'k': 50,\n",
       "    'metric_estimator': <knn.EuclideanMetric at 0x1d9d12f4cb0>,\n",
       "    'kernel_function': <function utils.kernel_function(kernel_arg: 'float') -> 'float'>},\n",
       "   'score': 0.846},\n",
       "  {'params': {'k': 75,\n",
       "    'metric_estimator': <knn.EuclideanMetric at 0x1d9d12f4cb0>,\n",
       "    'kernel_function': <function utils.kernel_function(kernel_arg: 'float') -> 'float'>},\n",
       "   'score': 0.828},\n",
       "  {'params': {'k': 100,\n",
       "    'metric_estimator': <knn.EuclideanMetric at 0x1d9d12f4cb0>,\n",
       "    'kernel_function': <function utils.kernel_function(kernel_arg: 'float') -> 'float'>},\n",
       "   'score': 0.828}]}"
      ]
     },
     "execution_count": 11,
     "metadata": {},
     "output_type": "execute_result"
    }
   ],
   "source": [
    "best_params"
   ]
  },
  {
   "cell_type": "markdown",
   "id": "73a4cfcc",
   "metadata": {},
   "source": [
    "# Инициализируем лучшую модель"
   ]
  },
  {
   "cell_type": "code",
   "execution_count": 14,
   "id": "8374e00d",
   "metadata": {},
   "outputs": [],
   "source": [
    "model = ParzenKNN(k=50, metric_estimator=EuclideanMetric(), kernel_function=kernel_function)"
   ]
  },
  {
   "cell_type": "code",
   "execution_count": 18,
   "id": "1951ace6",
   "metadata": {},
   "outputs": [
    {
     "name": "stderr",
     "output_type": "stream",
     "text": [
      "  0%|          | 0/28429 [00:00<?, ?it/s]"
     ]
    },
    {
     "name": "stderr",
     "output_type": "stream",
     "text": [
      "100%|██████████| 28429/28429 [23:44<00:00, 19.96it/s]    \n"
     ]
    }
   ],
   "source": [
    "from tqdm import tqdm\n",
    "\n",
    "predictions = model.predict_bathced(X_test, X_train, y_train, n_anchor_objects=5000)"
   ]
  },
  {
   "cell_type": "code",
   "execution_count": 19,
   "id": "f695b517",
   "metadata": {},
   "outputs": [
    {
     "data": {
      "text/plain": [
       "0.83393717682648"
      ]
     },
     "execution_count": 19,
     "metadata": {},
     "output_type": "execute_result"
    }
   ],
   "source": [
    "from sklearn.metrics import accuracy_score\n",
    "\n",
    "accuracy_score(y_test.astype(str), predictions)"
   ]
  },
  {
   "cell_type": "markdown",
   "id": "0f88b9f9",
   "metadata": {},
   "source": [
    "# Сравнение с эталонным алгоритмом"
   ]
  },
  {
   "cell_type": "code",
   "execution_count": 23,
   "id": "053b7142",
   "metadata": {},
   "outputs": [],
   "source": [
    "from sklearn.neighbors import KNeighborsClassifier\n",
    "\n",
    "sklearn_model = KNeighborsClassifier(n_neighbors=50, weights=\"distance\")\n",
    "sklearn_model.fit(X_train, y_train)\n",
    "\n",
    "sklearn_predictions = sklearn_model.predict(X_test)"
   ]
  },
  {
   "cell_type": "code",
   "execution_count": 25,
   "id": "fa7356e3",
   "metadata": {},
   "outputs": [
    {
     "data": {
      "text/plain": [
       "0.8419923317738929"
      ]
     },
     "execution_count": 25,
     "metadata": {},
     "output_type": "execute_result"
    }
   ],
   "source": [
    "accuracy_score(y_test, sklearn_predictions)"
   ]
  },
  {
   "cell_type": "markdown",
   "id": "a5697824",
   "metadata": {},
   "source": [
    "# "
   ]
  },
  {
   "cell_type": "markdown",
   "id": "9f5822de",
   "metadata": {},
   "source": [
    "# Отбор эталонных кандидатов"
   ]
  },
  {
   "cell_type": "markdown",
   "id": "8a4d87c4",
   "metadata": {},
   "source": [
    "## Для ускорения расчетов возьмем подвыборку из обучающего датасета"
   ]
  },
  {
   "cell_type": "code",
   "execution_count": 5,
   "id": "95615024",
   "metadata": {},
   "outputs": [],
   "source": [
    "samples_idx = np.random.choice(len(X_train), 10000, replace=False)\n",
    "X_train = X_train[samples_idx]\n",
    "y_train = y_train[samples_idx]"
   ]
  },
  {
   "cell_type": "code",
   "execution_count": 20,
   "id": "e8ef153d",
   "metadata": {},
   "outputs": [],
   "source": [
    "from utils import get_compact_profile"
   ]
  },
  {
   "cell_type": "code",
   "execution_count": null,
   "id": "a53f57b8",
   "metadata": {},
   "outputs": [
    {
     "data": {
      "text/plain": [
       "np.float64(0.249)"
      ]
     },
     "execution_count": 42,
     "metadata": {},
     "output_type": "execute_result"
    }
   ],
   "source": [
    "get_compact_profile(100, X_train, y_train, None, samples_for_estimation=1000)"
   ]
  },
  {
   "cell_type": "code",
   "execution_count": null,
   "id": "08d5f24f",
   "metadata": {},
   "outputs": [],
   "source": []
  }
 ],
 "metadata": {
  "kernelspec": {
   "display_name": "venv",
   "language": "python",
   "name": "python3"
  },
  "language_info": {
   "codemirror_mode": {
    "name": "ipython",
    "version": 3
   },
   "file_extension": ".py",
   "mimetype": "text/x-python",
   "name": "python",
   "nbconvert_exporter": "python",
   "pygments_lexer": "ipython3",
   "version": "3.12.10"
  }
 },
 "nbformat": 4,
 "nbformat_minor": 5
}
