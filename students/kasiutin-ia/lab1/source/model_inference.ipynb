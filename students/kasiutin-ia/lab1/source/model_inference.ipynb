{
 "cells": [
  {
   "cell_type": "code",
   "execution_count": 1,
   "id": "25de715e-6a0c-4d89-ba88-e6b3e16c86b0",
   "metadata": {},
   "outputs": [],
   "source": [
    "%load_ext autoreload"
   ]
  },
  {
   "cell_type": "code",
   "execution_count": 2,
   "id": "5017c69c-ec00-4268-a40e-875411435961",
   "metadata": {},
   "outputs": [],
   "source": [
    "%autoreload 2"
   ]
  },
  {
   "cell_type": "markdown",
   "id": "3ead0cd6-2885-43c1-8b9d-71a28e7e85a0",
   "metadata": {},
   "source": [
    "# Чтение датасета и разбиение на train/test"
   ]
  },
  {
   "cell_type": "code",
   "execution_count": 4,
   "id": "dd4bd7ef",
   "metadata": {},
   "outputs": [],
   "source": [
    "import pandas as pd\n",
    "import numpy as np\n",
    "\n",
    "\n",
    "dataset = pd.read_csv(\"processed_dataset.csv\", index_col=0)\n",
    "dataset = dataset.sample(frac=1, replace=False)\n",
    "\n",
    "X = dataset.drop(columns=\"RainTomorrow\").to_numpy()\n",
    "X = np.hstack([X, np.zeros((len(X), 1))])  # bias\n",
    "X[:, -1] = 0.1\n",
    "y = dataset[\"RainTomorrow\"].to_numpy()\n",
    "\n",
    "X_train = X[:-20000]\n",
    "y_train = y[:-20000]\n",
    "X_test = X[-20000:]\n",
    "y_test = y[-20000:]"
   ]
  },
  {
   "cell_type": "markdown",
   "id": "d2e5f4f0-5f84-4599-aa27-60e54f6a984d",
   "metadata": {},
   "source": [
    "# Загрузка и обучение моделей"
   ]
  },
  {
   "cell_type": "code",
   "execution_count": 5,
   "id": "5fca1112-7d02-4a11-ba8b-6df43a4ad896",
   "metadata": {
    "scrolled": true
   },
   "outputs": [
    {
     "name": "stdout",
     "output_type": "stream",
     "text": [
      "Initial weights: [-0.00782401 -1.42634137 -0.08000573  1.03569069 -0.01108025 -1.46600951\n",
      "  0.4925755   0.1007214   0.96717678 -0.68859644  0.05262124 -0.59525355\n",
      " -0.69245114  1.04199292]\n",
      "Initial Q: 2.0140803574757595\n",
      "Iteration 1\n"
     ]
    },
    {
     "name": "stderr",
     "output_type": "stream",
     "text": [
      "100%|██████████| 10000/10000 [00:00<00:00, 60740.80it/s]\n",
      "100%|██████████| 10000/10000 [00:00<00:00, 60185.77it/s]\n",
      "100%|██████████| 10000/10000 [00:00<00:00, 55889.03it/s]\n",
      "100%|██████████| 10000/10000 [00:00<00:00, 61884.52it/s]\n",
      "100%|██████████| 10000/10000 [00:00<00:00, 49960.20it/s]\n",
      "100%|██████████| 10000/10000 [00:00<00:00, 56267.21it/s]\n",
      "100%|██████████| 10000/10000 [00:00<00:00, 55769.16it/s]\n",
      "100%|██████████| 10000/10000 [00:00<00:00, 50923.44it/s]\n",
      "100%|██████████| 10000/10000 [00:00<00:00, 57869.07it/s]\n",
      "100%|██████████| 10000/10000 [00:00<00:00, 65306.00it/s]\n",
      "100%|██████████| 10000/10000 [00:00<00:00, 71345.78it/s]\n",
      "100%|██████████| 10000/10000 [00:00<00:00, 68355.89it/s]\n",
      "100%|██████████| 10000/10000 [00:00<00:00, 71554.52it/s]\n",
      "100%|██████████| 10000/10000 [00:00<00:00, 67187.55it/s]\n",
      "100%|██████████| 2193/2193 [00:00<00:00, 64607.07it/s]\n"
     ]
    },
    {
     "name": "stdout",
     "output_type": "stream",
     "text": [
      "Iteration 2\n"
     ]
    },
    {
     "name": "stderr",
     "output_type": "stream",
     "text": [
      "100%|██████████| 10000/10000 [00:00<00:00, 76779.38it/s]\n",
      "100%|██████████| 10000/10000 [00:00<00:00, 61820.04it/s]\n",
      "100%|██████████| 10000/10000 [00:00<00:00, 55408.90it/s]\n",
      "100%|██████████| 10000/10000 [00:00<00:00, 56197.70it/s]\n",
      "100%|██████████| 10000/10000 [00:00<00:00, 47002.59it/s]\n",
      "100%|██████████| 10000/10000 [00:00<00:00, 60466.72it/s]\n",
      "100%|██████████| 10000/10000 [00:00<00:00, 59804.15it/s]\n",
      "100%|██████████| 10000/10000 [00:00<00:00, 71867.41it/s]\n",
      "100%|██████████| 10000/10000 [00:00<00:00, 71745.58it/s]\n",
      "100%|██████████| 10000/10000 [00:00<00:00, 66899.92it/s]\n",
      "100%|██████████| 10000/10000 [00:00<00:00, 70286.49it/s]\n",
      "100%|██████████| 10000/10000 [00:00<00:00, 70423.15it/s]\n",
      "100%|██████████| 10000/10000 [00:00<00:00, 70922.21it/s]\n",
      "100%|██████████| 10000/10000 [00:00<00:00, 56358.46it/s]\n",
      "100%|██████████| 2193/2193 [00:00<00:00, 48739.96it/s]\n"
     ]
    },
    {
     "name": "stdout",
     "output_type": "stream",
     "text": [
      "Iteration 3\n"
     ]
    },
    {
     "name": "stderr",
     "output_type": "stream",
     "text": [
      "100%|██████████| 10000/10000 [00:00<00:00, 56179.71it/s]\n",
      "100%|██████████| 10000/10000 [00:00<00:00, 58825.98it/s]\n",
      "100%|██████████| 10000/10000 [00:00<00:00, 58405.18it/s]\n",
      "100%|██████████| 10000/10000 [00:00<00:00, 60240.74it/s]\n",
      "100%|██████████| 10000/10000 [00:00<00:00, 57804.15it/s]\n",
      "100%|██████████| 10000/10000 [00:00<00:00, 56761.94it/s]\n",
      "100%|██████████| 10000/10000 [00:00<00:00, 54347.75it/s]\n",
      "100%|██████████| 10000/10000 [00:00<00:00, 55242.00it/s]\n",
      "100%|██████████| 10000/10000 [00:00<00:00, 52469.86it/s]\n",
      "100%|██████████| 10000/10000 [00:00<00:00, 60975.95it/s]\n",
      "100%|██████████| 10000/10000 [00:00<00:00, 58823.50it/s]\n",
      "100%|██████████| 10000/10000 [00:00<00:00, 58478.55it/s]\n",
      "100%|██████████| 10000/10000 [00:00<00:00, 58139.80it/s]\n",
      "100%|██████████| 10000/10000 [00:00<00:00, 60975.24it/s]\n",
      "100%|██████████| 2193/2193 [00:00<00:00, 56231.41it/s]\n"
     ]
    },
    {
     "name": "stdout",
     "output_type": "stream",
     "text": [
      "Iteration 4\n"
     ]
    },
    {
     "name": "stderr",
     "output_type": "stream",
     "text": [
      "100%|██████████| 10000/10000 [00:00<00:00, 58812.29it/s]\n",
      "100%|██████████| 10000/10000 [00:00<00:00, 56534.09it/s]\n",
      "100%|██████████| 10000/10000 [00:00<00:00, 55231.74it/s]\n",
      "100%|██████████| 10000/10000 [00:00<00:00, 57456.46it/s]\n",
      "100%|██████████| 10000/10000 [00:00<00:00, 58421.78it/s]\n",
      "100%|██████████| 10000/10000 [00:00<00:00, 55003.44it/s]\n",
      "100%|██████████| 10000/10000 [00:00<00:00, 70675.43it/s]\n",
      "100%|██████████| 10000/10000 [00:00<00:00, 71996.94it/s]\n",
      "100%|██████████| 10000/10000 [00:00<00:00, 60758.31it/s]\n",
      "100%|██████████| 10000/10000 [00:00<00:00, 68673.07it/s]\n",
      "100%|██████████| 10000/10000 [00:00<00:00, 69195.58it/s]\n",
      "100%|██████████| 10000/10000 [00:00<00:00, 67771.62it/s]\n",
      "100%|██████████| 10000/10000 [00:00<00:00, 55541.34it/s]\n",
      "100%|██████████| 10000/10000 [00:00<00:00, 56669.98it/s]\n",
      "100%|██████████| 2193/2193 [00:00<00:00, 42120.51it/s]\n"
     ]
    },
    {
     "name": "stdout",
     "output_type": "stream",
     "text": [
      "Iteration 5\n"
     ]
    },
    {
     "name": "stderr",
     "output_type": "stream",
     "text": [
      "100%|██████████| 10000/10000 [00:00<00:00, 59782.07it/s]\n",
      "100%|██████████| 10000/10000 [00:00<00:00, 58702.65it/s]\n",
      "100%|██████████| 10000/10000 [00:00<00:00, 63596.89it/s]\n",
      "100%|██████████| 10000/10000 [00:00<00:00, 61865.63it/s]\n",
      "100%|██████████| 10000/10000 [00:00<00:00, 65790.42it/s]\n",
      "100%|██████████| 10000/10000 [00:00<00:00, 81235.21it/s]\n",
      "100%|██████████| 10000/10000 [00:00<00:00, 73006.76it/s]\n",
      "100%|██████████| 10000/10000 [00:00<00:00, 66184.92it/s]\n",
      "100%|██████████| 10000/10000 [00:00<00:00, 61604.93it/s]\n",
      "100%|██████████| 10000/10000 [00:00<00:00, 64268.11it/s]\n",
      "100%|██████████| 10000/10000 [00:00<00:00, 65358.92it/s]\n",
      "100%|██████████| 10000/10000 [00:00<00:00, 60602.05it/s]\n",
      "100%|██████████| 10000/10000 [00:00<00:00, 59172.05it/s]\n",
      "100%|██████████| 10000/10000 [00:00<00:00, 65359.33it/s]\n",
      "100%|██████████| 2193/2193 [00:00<00:00, 59268.84it/s]\n"
     ]
    },
    {
     "name": "stdout",
     "output_type": "stream",
     "text": [
      "Iteration 6\n"
     ]
    },
    {
     "name": "stderr",
     "output_type": "stream",
     "text": [
      "100%|██████████| 10000/10000 [00:00<00:00, 72945.43it/s]\n",
      "100%|██████████| 10000/10000 [00:00<00:00, 62143.08it/s]\n",
      "100%|██████████| 10000/10000 [00:00<00:00, 68493.31it/s]\n",
      "100%|██████████| 10000/10000 [00:00<00:00, 71428.40it/s]\n",
      "100%|██████████| 10000/10000 [00:00<00:00, 72994.43it/s]\n",
      "100%|██████████| 10000/10000 [00:00<00:00, 71428.40it/s]\n",
      "100%|██████████| 10000/10000 [00:00<00:00, 71949.51it/s]\n",
      "100%|██████████| 10000/10000 [00:00<00:00, 70922.81it/s]\n",
      "100%|██████████| 10000/10000 [00:00<00:00, 58821.03it/s]\n",
      "100%|██████████| 10000/10000 [00:00<00:00, 61349.02it/s]\n",
      "100%|██████████| 10000/10000 [00:00<00:00, 53448.05it/s]\n",
      "100%|██████████| 10000/10000 [00:00<00:00, 60975.86it/s]\n",
      "100%|██████████| 10000/10000 [00:00<00:00, 59172.05it/s]\n",
      "100%|██████████| 10000/10000 [00:00<00:00, 60242.22it/s]\n",
      "100%|██████████| 2193/2193 [00:00<00:00, 54826.36it/s]\n"
     ]
    },
    {
     "name": "stdout",
     "output_type": "stream",
     "text": [
      "Iteration 7\n"
     ]
    },
    {
     "name": "stderr",
     "output_type": "stream",
     "text": [
      "100%|██████████| 10000/10000 [00:00<00:00, 57778.27it/s]\n",
      "100%|██████████| 10000/10000 [00:00<00:00, 58822.68it/s]\n",
      "100%|██████████| 10000/10000 [00:00<00:00, 59879.71it/s]\n",
      "100%|██████████| 10000/10000 [00:00<00:00, 60568.70it/s]\n",
      "100%|██████████| 10000/10000 [00:00<00:00, 58448.89it/s]\n",
      "100%|██████████| 10000/10000 [00:00<00:00, 59489.37it/s]\n",
      "100%|██████████| 10000/10000 [00:00<00:00, 59850.14it/s]\n",
      "100%|██████████| 10000/10000 [00:00<00:00, 51282.70it/s]\n",
      "100%|██████████| 10000/10000 [00:00<00:00, 60535.05it/s]\n",
      "100%|██████████| 10000/10000 [00:00<00:00, 60974.53it/s]\n",
      "100%|██████████| 10000/10000 [00:00<00:00, 66861.21it/s]\n",
      "100%|██████████| 10000/10000 [00:00<00:00, 72430.60it/s]\n",
      "100%|██████████| 10000/10000 [00:00<00:00, 75796.61it/s]\n",
      "100%|██████████| 10000/10000 [00:00<00:00, 73529.46it/s]\n",
      "100%|██████████| 2193/2193 [00:00<00:00, 68526.52it/s]\n"
     ]
    },
    {
     "name": "stdout",
     "output_type": "stream",
     "text": [
      "Iteration 8\n"
     ]
    },
    {
     "name": "stderr",
     "output_type": "stream",
     "text": [
      "100%|██████████| 10000/10000 [00:00<00:00, 70878.82it/s]\n",
      "100%|██████████| 10000/10000 [00:00<00:00, 71941.61it/s]\n",
      "100%|██████████| 10000/10000 [00:00<00:00, 68931.30it/s]\n",
      "100%|██████████| 10000/10000 [00:00<00:00, 58823.34it/s]\n",
      "100%|██████████| 10000/10000 [00:00<00:00, 57798.34it/s]\n",
      "100%|██████████| 10000/10000 [00:00<00:00, 48088.07it/s]\n",
      "100%|██████████| 10000/10000 [00:00<00:00, 58826.23it/s]\n",
      "100%|██████████| 10000/10000 [00:00<00:00, 57804.63it/s]\n",
      "100%|██████████| 10000/10000 [00:00<00:00, 72417.60it/s]\n",
      "100%|██████████| 10000/10000 [00:00<00:00, 74049.49it/s]\n",
      "100%|██████████| 10000/10000 [00:00<00:00, 74625.64it/s]\n",
      "100%|██████████| 10000/10000 [00:00<00:00, 75042.47it/s]\n",
      "100%|██████████| 10000/10000 [00:00<00:00, 67114.23it/s]\n",
      "100%|██████████| 10000/10000 [00:00<00:00, 75711.92it/s]\n",
      "100%|██████████| 2193/2193 [00:00<00:00, 66452.16it/s]\n"
     ]
    },
    {
     "name": "stdout",
     "output_type": "stream",
     "text": [
      "Iteration 9\n"
     ]
    },
    {
     "name": "stderr",
     "output_type": "stream",
     "text": [
      "100%|██████████| 10000/10000 [00:00<00:00, 66221.08it/s]\n",
      "100%|██████████| 10000/10000 [00:00<00:00, 60240.40it/s]\n",
      "100%|██████████| 10000/10000 [00:00<00:00, 58942.04it/s]\n",
      "100%|██████████| 10000/10000 [00:00<00:00, 53057.26it/s]\n",
      "100%|██████████| 10000/10000 [00:00<00:00, 52883.73it/s]\n",
      "100%|██████████| 10000/10000 [00:00<00:00, 58106.86it/s]\n",
      "100%|██████████| 10000/10000 [00:00<00:00, 61729.42it/s]\n",
      "100%|██████████| 10000/10000 [00:00<00:00, 58958.45it/s]\n",
      "100%|██████████| 10000/10000 [00:00<00:00, 59488.10it/s]\n",
      "100%|██████████| 10000/10000 [00:00<00:00, 60372.72it/s]\n",
      "100%|██████████| 10000/10000 [00:00<00:00, 51520.18it/s]\n",
      "100%|██████████| 10000/10000 [00:00<00:00, 59481.02it/s]\n",
      "100%|██████████| 10000/10000 [00:00<00:00, 56179.86it/s]\n",
      "100%|██████████| 10000/10000 [00:00<00:00, 54617.67it/s]\n",
      "100%|██████████| 2193/2193 [00:00<00:00, 44757.04it/s]\n"
     ]
    },
    {
     "name": "stdout",
     "output_type": "stream",
     "text": [
      "Early stopping by Q\n",
      "Final weights: self.weights=array([ 0.14798758, -0.0655356 ,  0.06211047,  0.04826636,  0.20677273,\n",
      "       -0.09547703,  0.11448377,  0.17887812,  0.07234903, -0.11692809,\n",
      "       -0.04065605,  0.59544956,  0.20777116, -0.38704974])\n",
      "Final Q: self._calculate_accurate_Q(X_train, y_train)=np.float64(0.901663745955796)\n"
     ]
    }
   ],
   "source": [
    "from classifier import LinearClassifier\n",
    "\n",
    "model = LinearClassifier(l2_reg_param=0.1, learning_rate=0.05, Q_param=1/len(X), gamma=0.9)\n",
    "loss = model.fit(X, y, n_iters=30, batch_size=10000, stop_threshold=0.0001, weights_init_method=\"random\", batch_generation=\"margin\")"
   ]
  },
  {
   "cell_type": "code",
   "execution_count": 7,
   "id": "1a4f7cb6",
   "metadata": {},
   "outputs": [
    {
     "data": {
      "image/png": "[encoded data removed]",
      "text/plain": [
       "<Figure size 640x480 with 1 Axes>"
      ]
     },
     "metadata": {},
     "output_type": "display_data"
    }
   ],
   "source": [
    "import matplotlib.pyplot as plt\n",
    "import numpy as np\n",
    "\n",
    "plt.plot(np.arange(len(loss)), loss)\n",
    "plt.xlabel(\"Итерация\")\n",
    "plt.ylabel(\"Loss\")\n",
    "plt.grid()\n",
    "plt.show()"
   ]
  },
  {
   "cell_type": "code",
   "execution_count": 25,
   "id": "60393048-94e5-4fbb-b7a5-a75780591f0f",
   "metadata": {
    "scrolled": true
   },
   "outputs": [
    {
     "name": "stdout",
     "output_type": "stream",
     "text": [
      "Initial weights: [ 1.84480726 -1.20351413  0.72310509  8.70210938  1.12414279 -1.67496749\n",
      " -0.15626699  0.62438412  1.10897237 -1.75053623 -0.98732183  1.78613273\n",
      "  0.46340957 -5.51637563]\n",
      "Initial Q: 13.45730984002315\n",
      "Iteration 1\n"
     ]
    },
    {
     "name": "stderr",
     "output_type": "stream",
     "text": [
      "100%|██████████| 10000/10000 [00:00<00:00, 62632.68it/s]\n",
      "100%|██████████| 10000/10000 [00:00<00:00, 62408.27it/s]\n",
      "100%|██████████| 10000/10000 [00:00<00:00, 55059.40it/s]\n",
      "100%|██████████| 10000/10000 [00:00<00:00, 58954.06it/s]\n",
      "100%|██████████| 10000/10000 [00:00<00:00, 63447.01it/s]\n",
      "100%|██████████| 10000/10000 [00:00<00:00, 57888.24it/s]\n",
      "100%|██████████| 10000/10000 [00:00<00:00, 54838.83it/s]\n",
      "100%|██████████| 10000/10000 [00:00<00:00, 54567.72it/s]\n",
      "100%|██████████| 10000/10000 [00:00<00:00, 56534.02it/s]\n",
      "100%|██████████| 10000/10000 [00:00<00:00, 54894.09it/s]\n",
      "100%|██████████| 10000/10000 [00:00<00:00, 54637.88it/s]\n",
      "100%|██████████| 10000/10000 [00:00<00:00, 66242.62it/s]\n",
      "100%|██████████| 10000/10000 [00:00<00:00, 67465.30it/s]\n",
      "100%|██████████| 10000/10000 [00:00<00:00, 71222.20it/s]\n",
      "100%|██████████| 2193/2193 [00:00<00:00, 72095.66it/s]\n"
     ]
    },
    {
     "name": "stdout",
     "output_type": "stream",
     "text": [
      "Iteration 2\n"
     ]
    },
    {
     "name": "stderr",
     "output_type": "stream",
     "text": [
      "100%|██████████| 10000/10000 [00:00<00:00, 63285.99it/s]\n",
      "100%|██████████| 10000/10000 [00:00<00:00, 64927.11it/s]\n",
      "100%|██████████| 10000/10000 [00:00<00:00, 64251.87it/s]\n",
      "100%|██████████| 10000/10000 [00:00<00:00, 62520.18it/s]\n",
      "100%|██████████| 10000/10000 [00:00<00:00, 65834.83it/s]\n",
      "100%|██████████| 10000/10000 [00:00<00:00, 67103.60it/s]\n",
      "100%|██████████| 10000/10000 [00:00<00:00, 74403.37it/s]\n",
      "100%|██████████| 10000/10000 [00:00<00:00, 67821.37it/s]\n",
      "100%|██████████| 10000/10000 [00:00<00:00, 69516.47it/s]\n",
      "100%|██████████| 10000/10000 [00:00<00:00, 65690.89it/s]\n",
      "100%|██████████| 10000/10000 [00:00<00:00, 57657.15it/s]\n",
      "100%|██████████| 10000/10000 [00:00<00:00, 57987.72it/s]\n",
      "100%|██████████| 10000/10000 [00:00<00:00, 55348.21it/s]\n",
      "100%|██████████| 10000/10000 [00:00<00:00, 60339.45it/s]\n",
      "100%|██████████| 2193/2193 [00:00<00:00, 62629.26it/s]\n"
     ]
    },
    {
     "name": "stdout",
     "output_type": "stream",
     "text": [
      "Iteration 3\n"
     ]
    },
    {
     "name": "stderr",
     "output_type": "stream",
     "text": [
      "100%|██████████| 10000/10000 [00:00<00:00, 60497.94it/s]\n",
      "100%|██████████| 10000/10000 [00:00<00:00, 56381.65it/s]\n",
      "100%|██████████| 10000/10000 [00:00<00:00, 54490.16it/s]\n",
      "100%|██████████| 10000/10000 [00:00<00:00, 60738.42it/s]\n",
      "100%|██████████| 10000/10000 [00:00<00:00, 57074.14it/s]\n",
      "100%|██████████| 10000/10000 [00:00<00:00, 64142.01it/s]\n",
      "100%|██████████| 10000/10000 [00:00<00:00, 64050.23it/s]\n",
      "100%|██████████| 10000/10000 [00:00<00:00, 61671.69it/s]\n",
      "100%|██████████| 10000/10000 [00:00<00:00, 63086.76it/s]\n",
      "100%|██████████| 10000/10000 [00:00<00:00, 63304.80it/s]\n",
      "100%|██████████| 10000/10000 [00:00<00:00, 64976.89it/s]\n",
      "100%|██████████| 10000/10000 [00:00<00:00, 56339.08it/s]\n",
      "100%|██████████| 10000/10000 [00:00<00:00, 59989.93it/s]\n",
      "100%|██████████| 10000/10000 [00:00<00:00, 62996.83it/s]\n",
      "100%|██████████| 2193/2193 [00:00<00:00, 68048.45it/s]\n"
     ]
    },
    {
     "name": "stdout",
     "output_type": "stream",
     "text": [
      "Iteration 4\n"
     ]
    },
    {
     "name": "stderr",
     "output_type": "stream",
     "text": [
      "100%|██████████| 10000/10000 [00:00<00:00, 62537.52it/s]\n",
      "100%|██████████| 10000/10000 [00:00<00:00, 62173.21it/s]\n",
      "100%|██████████| 10000/10000 [00:00<00:00, 57098.45it/s]\n",
      "100%|██████████| 10000/10000 [00:00<00:00, 54688.32it/s]\n",
      "100%|██████████| 10000/10000 [00:00<00:00, 62594.73it/s]\n",
      "100%|██████████| 10000/10000 [00:00<00:00, 60300.68it/s]\n",
      "100%|██████████| 10000/10000 [00:00<00:00, 61895.21it/s]\n",
      "100%|██████████| 10000/10000 [00:00<00:00, 62776.77it/s]\n",
      "100%|██████████| 10000/10000 [00:00<00:00, 63116.37it/s]\n",
      "100%|██████████| 10000/10000 [00:00<00:00, 54816.40it/s]\n",
      "100%|██████████| 10000/10000 [00:00<00:00, 61925.91it/s]\n",
      "100%|██████████| 10000/10000 [00:00<00:00, 61273.83it/s]\n",
      "100%|██████████| 10000/10000 [00:00<00:00, 54853.39it/s]\n",
      "100%|██████████| 10000/10000 [00:00<00:00, 65707.66it/s]\n",
      "100%|██████████| 2193/2193 [00:00<00:00, 46499.25it/s]\n"
     ]
    },
    {
     "name": "stdout",
     "output_type": "stream",
     "text": [
      "Iteration 5\n"
     ]
    },
    {
     "name": "stderr",
     "output_type": "stream",
     "text": [
      "100%|██████████| 10000/10000 [00:00<00:00, 56080.86it/s]\n",
      "100%|██████████| 10000/10000 [00:00<00:00, 59688.32it/s]\n",
      "100%|██████████| 10000/10000 [00:00<00:00, 56303.99it/s]\n",
      "100%|██████████| 10000/10000 [00:00<00:00, 62745.77it/s]\n",
      "100%|██████████| 10000/10000 [00:00<00:00, 52642.20it/s]\n",
      "100%|██████████| 10000/10000 [00:00<00:00, 63749.52it/s]\n",
      "100%|██████████| 10000/10000 [00:00<00:00, 56204.02it/s]\n",
      "100%|██████████| 10000/10000 [00:00<00:00, 43415.25it/s]\n",
      "100%|██████████| 10000/10000 [00:00<00:00, 59434.83it/s]\n",
      "100%|██████████| 10000/10000 [00:00<00:00, 58895.45it/s]\n",
      "100%|██████████| 10000/10000 [00:00<00:00, 64095.85it/s]\n",
      "100%|██████████| 10000/10000 [00:00<00:00, 52587.15it/s]\n",
      "100%|██████████| 10000/10000 [00:00<00:00, 65853.64it/s]\n",
      "100%|██████████| 10000/10000 [00:00<00:00, 64094.38it/s]\n",
      "100%|██████████| 2193/2193 [00:00<00:00, 64709.34it/s]\n"
     ]
    },
    {
     "name": "stdout",
     "output_type": "stream",
     "text": [
      "Iteration 6\n"
     ]
    },
    {
     "name": "stderr",
     "output_type": "stream",
     "text": [
      "100%|██████████| 10000/10000 [00:00<00:00, 53858.20it/s]\n",
      "100%|██████████| 10000/10000 [00:00<00:00, 66227.87it/s]\n",
      "100%|██████████| 10000/10000 [00:00<00:00, 54697.66it/s]\n",
      "100%|██████████| 10000/10000 [00:00<00:00, 61381.89it/s]\n",
      "100%|██████████| 10000/10000 [00:00<00:00, 62576.99it/s]\n",
      "100%|██████████| 10000/10000 [00:00<00:00, 62135.44it/s]\n",
      "100%|██████████| 10000/10000 [00:00<00:00, 57909.66it/s]\n",
      "100%|██████████| 10000/10000 [00:00<00:00, 63070.44it/s]\n",
      "100%|██████████| 10000/10000 [00:00<00:00, 61754.14it/s]\n",
      "100%|██████████| 10000/10000 [00:00<00:00, 62770.47it/s]\n",
      "100%|██████████| 10000/10000 [00:00<00:00, 62705.72it/s]\n",
      "100%|██████████| 10000/10000 [00:00<00:00, 62596.69it/s]\n",
      "100%|██████████| 10000/10000 [00:00<00:00, 50394.62it/s]\n",
      "100%|██████████| 10000/10000 [00:00<00:00, 60302.93it/s]\n",
      "100%|██████████| 2193/2193 [00:00<00:00, 53286.23it/s]\n"
     ]
    },
    {
     "name": "stdout",
     "output_type": "stream",
     "text": [
      "Iteration 7\n"
     ]
    },
    {
     "name": "stderr",
     "output_type": "stream",
     "text": [
      "100%|██████████| 10000/10000 [00:00<00:00, 57721.58it/s]\n",
      "100%|██████████| 10000/10000 [00:00<00:00, 62836.77it/s]\n",
      "100%|██████████| 10000/10000 [00:00<00:00, 60028.48it/s]\n",
      "100%|██████████| 10000/10000 [00:00<00:00, 60134.43it/s]\n",
      "100%|██████████| 10000/10000 [00:00<00:00, 57735.01it/s]\n",
      "100%|██████████| 10000/10000 [00:00<00:00, 65640.82it/s]\n",
      "100%|██████████| 10000/10000 [00:00<00:00, 62882.27it/s]\n",
      "100%|██████████| 10000/10000 [00:00<00:00, 60141.06it/s]\n",
      "100%|██████████| 10000/10000 [00:00<00:00, 63628.05it/s]\n",
      "100%|██████████| 10000/10000 [00:00<00:00, 62782.87it/s]\n",
      "100%|██████████| 10000/10000 [00:00<00:00, 62631.84it/s]\n",
      "100%|██████████| 10000/10000 [00:00<00:00, 61298.99it/s]\n",
      "100%|██████████| 10000/10000 [00:00<00:00, 60478.49it/s]\n",
      "100%|██████████| 10000/10000 [00:00<00:00, 62780.71it/s]\n",
      "100%|██████████| 2193/2193 [00:00<00:00, 63459.74it/s]\n"
     ]
    },
    {
     "name": "stdout",
     "output_type": "stream",
     "text": [
      "Iteration 8\n"
     ]
    },
    {
     "name": "stderr",
     "output_type": "stream",
     "text": [
      "100%|██████████| 10000/10000 [00:00<00:00, 62818.51it/s]\n",
      "100%|██████████| 10000/10000 [00:00<00:00, 62819.17it/s]\n",
      "100%|██████████| 10000/10000 [00:00<00:00, 61147.70it/s]\n",
      "100%|██████████| 10000/10000 [00:00<00:00, 60199.24it/s]\n",
      "100%|██████████| 10000/10000 [00:00<00:00, 62773.10it/s]\n",
      "100%|██████████| 10000/10000 [00:00<00:00, 62746.62it/s]\n",
      "100%|██████████| 10000/10000 [00:00<00:00, 65613.30it/s]\n",
      "100%|██████████| 10000/10000 [00:00<00:00, 62609.31it/s]\n",
      "100%|██████████| 10000/10000 [00:00<00:00, 57590.73it/s]\n",
      "100%|██████████| 10000/10000 [00:00<00:00, 54485.77it/s]\n",
      "100%|██████████| 10000/10000 [00:00<00:00, 60158.40it/s]\n",
      "100%|██████████| 10000/10000 [00:00<00:00, 56290.16it/s]\n",
      "100%|██████████| 10000/10000 [00:00<00:00, 60200.54it/s]\n",
      "100%|██████████| 10000/10000 [00:00<00:00, 53417.01it/s]\n",
      "100%|██████████| 2193/2193 [00:00<00:00, 45249.80it/s]\n"
     ]
    },
    {
     "name": "stdout",
     "output_type": "stream",
     "text": [
      "Iteration 9\n"
     ]
    },
    {
     "name": "stderr",
     "output_type": "stream",
     "text": [
      "100%|██████████| 10000/10000 [00:00<00:00, 58201.28it/s]\n",
      "100%|██████████| 10000/10000 [00:00<00:00, 60169.19it/s]\n",
      "100%|██████████| 10000/10000 [00:00<00:00, 75745.96it/s]\n",
      "100%|██████████| 10000/10000 [00:00<00:00, 75995.47it/s]\n",
      "100%|██████████| 10000/10000 [00:00<00:00, 75970.97it/s]\n",
      "100%|██████████| 10000/10000 [00:00<00:00, 75012.41it/s]\n",
      "100%|██████████| 10000/10000 [00:00<00:00, 76006.90it/s]\n",
      "100%|██████████| 10000/10000 [00:00<00:00, 76136.18it/s]\n",
      "100%|██████████| 10000/10000 [00:00<00:00, 65786.40it/s]\n",
      "100%|██████████| 10000/10000 [00:00<00:00, 62037.47it/s]\n",
      "100%|██████████| 10000/10000 [00:00<00:00, 61427.37it/s]\n",
      "100%|██████████| 10000/10000 [00:00<00:00, 62891.04it/s]\n",
      "100%|██████████| 10000/10000 [00:00<00:00, 65588.78it/s]\n",
      "100%|██████████| 10000/10000 [00:00<00:00, 60189.83it/s]\n",
      "100%|██████████| 2193/2193 [00:00<00:00, 63165.15it/s]\n"
     ]
    },
    {
     "name": "stdout",
     "output_type": "stream",
     "text": [
      "Iteration 10\n"
     ]
    },
    {
     "name": "stderr",
     "output_type": "stream",
     "text": [
      "100%|██████████| 10000/10000 [00:00<00:00, 57631.01it/s]\n",
      "100%|██████████| 10000/10000 [00:00<00:00, 61810.74it/s]\n",
      "100%|██████████| 10000/10000 [00:00<00:00, 60527.88it/s]\n",
      "100%|██████████| 10000/10000 [00:00<00:00, 58776.43it/s]\n",
      "100%|██████████| 10000/10000 [00:00<00:00, 59283.78it/s]\n",
      "100%|██████████| 10000/10000 [00:00<00:00, 60144.00it/s]\n",
      "100%|██████████| 10000/10000 [00:00<00:00, 54888.92it/s]\n",
      "100%|██████████| 10000/10000 [00:00<00:00, 61791.07it/s]\n",
      "100%|██████████| 10000/10000 [00:00<00:00, 57976.34it/s]\n",
      "100%|██████████| 10000/10000 [00:00<00:00, 51064.05it/s]\n",
      "100%|██████████| 10000/10000 [00:00<00:00, 63276.06it/s]\n",
      "100%|██████████| 10000/10000 [00:00<00:00, 59557.62it/s]\n",
      "100%|██████████| 10000/10000 [00:00<00:00, 61094.08it/s]\n",
      "100%|██████████| 10000/10000 [00:00<00:00, 60082.31it/s]\n",
      "100%|██████████| 2193/2193 [00:00<00:00, 67290.27it/s]\n"
     ]
    },
    {
     "name": "stdout",
     "output_type": "stream",
     "text": [
      "Iteration 11\n"
     ]
    },
    {
     "name": "stderr",
     "output_type": "stream",
     "text": [
      "100%|██████████| 10000/10000 [00:00<00:00, 59935.50it/s]\n",
      "100%|██████████| 10000/10000 [00:00<00:00, 59269.71it/s]\n",
      "100%|██████████| 10000/10000 [00:00<00:00, 29199.24it/s]\n",
      "100%|██████████| 10000/10000 [00:00<00:00, 14885.21it/s]\n",
      "100%|██████████| 10000/10000 [00:00<00:00, 15173.93it/s]\n",
      "100%|██████████| 10000/10000 [00:00<00:00, 17815.36it/s]\n",
      "100%|██████████| 10000/10000 [00:00<00:00, 17165.84it/s]\n",
      "100%|██████████| 10000/10000 [00:00<00:00, 17401.32it/s]\n",
      "100%|██████████| 10000/10000 [00:00<00:00, 17052.65it/s]\n",
      "100%|██████████| 10000/10000 [00:00<00:00, 19767.04it/s]\n",
      "100%|██████████| 10000/10000 [00:00<00:00, 14176.60it/s]\n",
      "100%|██████████| 10000/10000 [00:00<00:00, 16794.13it/s]\n",
      "100%|██████████| 10000/10000 [00:00<00:00, 17114.68it/s]\n",
      "100%|██████████| 10000/10000 [00:00<00:00, 25387.61it/s]\n",
      "100%|██████████| 2193/2193 [00:00<00:00, 22619.51it/s]\n"
     ]
    },
    {
     "name": "stdout",
     "output_type": "stream",
     "text": [
      "Iteration 12\n"
     ]
    },
    {
     "name": "stderr",
     "output_type": "stream",
     "text": [
      "100%|██████████| 10000/10000 [00:00<00:00, 18275.62it/s]\n",
      "100%|██████████| 10000/10000 [00:00<00:00, 20014.71it/s]\n",
      "100%|██████████| 10000/10000 [00:00<00:00, 17806.00it/s]\n",
      "100%|██████████| 10000/10000 [00:00<00:00, 20932.39it/s]\n",
      "100%|██████████| 10000/10000 [00:00<00:00, 16583.95it/s]\n",
      "100%|██████████| 10000/10000 [00:00<00:00, 17819.49it/s]\n",
      "100%|██████████| 10000/10000 [00:00<00:00, 16604.82it/s]\n",
      "100%|██████████| 10000/10000 [00:00<00:00, 23083.00it/s]\n",
      "100%|██████████| 10000/10000 [00:00<00:00, 63070.91it/s]\n",
      "100%|██████████| 10000/10000 [00:00<00:00, 60742.03it/s]\n",
      "100%|██████████| 10000/10000 [00:00<00:00, 55546.85it/s]\n",
      "100%|██████████| 10000/10000 [00:00<00:00, 63581.85it/s]\n",
      "100%|██████████| 10000/10000 [00:00<00:00, 60641.21it/s]\n",
      "100%|██████████| 10000/10000 [00:00<00:00, 62768.69it/s]\n",
      "100%|██████████| 2193/2193 [00:00<00:00, 63277.26it/s]\n"
     ]
    },
    {
     "name": "stdout",
     "output_type": "stream",
     "text": [
      "Early stopping by Q\n",
      "Final weights: self.weights=array([ 0.13103571, -0.02518077, -0.00480412,  0.03140984,  0.17060238,\n",
      "       -0.24773158,  0.06196229,  0.38751556,  0.04235346, -0.28047887,\n",
      "        0.01093045,  0.43607217,  0.18880438, -0.46382313])\n",
      "Final Q: self._calculate_accurate_Q(X_train, y_train)=np.float64(0.8978778175809308)\n"
     ]
    }
   ],
   "source": [
    "loss = model.fit(X, y, n_iters=30, batch_size=10000, stop_threshold=0.0001, weights_init_method=\"corr\", batch_generation=\"random\")"
   ]
  },
  {
   "cell_type": "code",
   "execution_count": 26,
   "id": "cdc1048b-7dc2-486f-b98c-c1bed2157a38",
   "metadata": {},
   "outputs": [
    {
     "data": {
      "image/png": "[encoded data removed]",
      "text/plain": [
       "<Figure size 640x480 with 1 Axes>"
      ]
     },
     "metadata": {},
     "output_type": "display_data"
    }
   ],
   "source": [
    "plt.plot(np.arange(len(loss)), loss)\n",
    "plt.xlabel(\"Итерация\")\n",
    "plt.ylabel(\"Loss\")\n",
    "plt.grid()\n",
    "plt.show()"
   ]
  },
  {
   "cell_type": "code",
   "execution_count": 18,
   "id": "d0cce767-ee38-436b-b838-40ac48b30b75",
   "metadata": {
    "scrolled": true
   },
   "outputs": [
    {
     "name": "stdout",
     "output_type": "stream",
     "text": [
      "Initial weights: [ 0.24652693 -0.32330914 -1.20094787 -0.69562291 -0.78796332  0.06634286\n",
      "  0.65004185  0.69524096 -0.61112647 -0.23818468 -1.24482606  0.51594444\n",
      "  0.38590272  0.40606659]\n",
      "Initial Q: 1.6218556025117261\n",
      "Iteration 1\n"
     ]
    },
    {
     "name": "stderr",
     "output_type": "stream",
     "text": [
      "100%|██████████| 10000/10000 [00:00<00:00, 59522.63it/s]\n",
      "100%|██████████| 10000/10000 [00:00<00:00, 60699.66it/s]\n",
      "100%|██████████| 10000/10000 [00:00<00:00, 57370.40it/s]\n",
      "100%|██████████| 10000/10000 [00:00<00:00, 58295.60it/s]\n",
      "100%|██████████| 10000/10000 [00:00<00:00, 58195.86it/s]\n",
      "100%|██████████| 10000/10000 [00:00<00:00, 58807.26it/s]\n",
      "100%|██████████| 10000/10000 [00:00<00:00, 60582.00it/s]\n",
      "100%|██████████| 10000/10000 [00:00<00:00, 54529.13it/s]\n",
      "100%|██████████| 10000/10000 [00:00<00:00, 55539.64it/s]\n",
      "100%|██████████| 10000/10000 [00:00<00:00, 62815.41it/s]\n",
      "100%|██████████| 10000/10000 [00:00<00:00, 56678.71it/s]\n",
      "100%|██████████| 10000/10000 [00:00<00:00, 52310.12it/s]\n",
      "100%|██████████| 10000/10000 [00:00<00:00, 56983.57it/s]\n",
      "100%|██████████| 10000/10000 [00:00<00:00, 57536.93it/s]\n",
      "100%|██████████| 2193/2193 [00:00<00:00, 47863.44it/s]\n"
     ]
    },
    {
     "name": "stdout",
     "output_type": "stream",
     "text": [
      "Iteration 2\n"
     ]
    },
    {
     "name": "stderr",
     "output_type": "stream",
     "text": [
      "100%|██████████| 10000/10000 [00:00<00:00, 53802.72it/s]\n",
      "100%|██████████| 10000/10000 [00:00<00:00, 62953.91it/s]\n",
      "100%|██████████| 10000/10000 [00:00<00:00, 57939.50it/s]\n",
      "100%|██████████| 10000/10000 [00:00<00:00, 51490.83it/s]\n",
      "100%|██████████| 10000/10000 [00:00<00:00, 55392.95it/s]\n",
      "100%|██████████| 10000/10000 [00:00<00:00, 55475.59it/s]\n",
      "100%|██████████| 10000/10000 [00:00<00:00, 57396.46it/s]\n",
      "100%|██████████| 10000/10000 [00:00<00:00, 55905.94it/s]\n",
      "100%|██████████| 10000/10000 [00:00<00:00, 62805.91it/s]\n",
      "100%|██████████| 10000/10000 [00:00<00:00, 69026.47it/s]\n",
      "100%|██████████| 10000/10000 [00:00<00:00, 73998.41it/s]\n",
      "100%|██████████| 10000/10000 [00:00<00:00, 63481.96it/s]\n",
      "100%|██████████| 10000/10000 [00:00<00:00, 67425.60it/s]\n",
      "100%|██████████| 10000/10000 [00:00<00:00, 72405.09it/s]\n",
      "100%|██████████| 2193/2193 [00:00<00:00, 64936.84it/s]\n"
     ]
    },
    {
     "name": "stdout",
     "output_type": "stream",
     "text": [
      "Iteration 3\n"
     ]
    },
    {
     "name": "stderr",
     "output_type": "stream",
     "text": [
      "100%|██████████| 10000/10000 [00:00<00:00, 67404.58it/s]\n",
      "100%|██████████| 10000/10000 [00:00<00:00, 67551.68it/s]\n",
      "100%|██████████| 10000/10000 [00:00<00:00, 68073.88it/s]\n",
      "100%|██████████| 10000/10000 [00:00<00:00, 69067.51it/s]\n",
      "100%|██████████| 10000/10000 [00:00<00:00, 76126.92it/s]\n",
      "100%|██████████| 10000/10000 [00:00<00:00, 76383.26it/s]\n",
      "100%|██████████| 10000/10000 [00:00<00:00, 69916.72it/s]\n",
      "100%|██████████| 10000/10000 [00:00<00:00, 63805.09it/s]\n",
      "100%|██████████| 10000/10000 [00:00<00:00, 57623.80it/s]\n",
      "100%|██████████| 10000/10000 [00:00<00:00, 62738.36it/s]\n",
      "100%|██████████| 10000/10000 [00:00<00:00, 57355.34it/s]\n",
      "100%|██████████| 10000/10000 [00:00<00:00, 56384.68it/s]\n",
      "100%|██████████| 10000/10000 [00:00<00:00, 70389.94it/s]\n",
      "100%|██████████| 10000/10000 [00:00<00:00, 64651.89it/s]\n",
      "100%|██████████| 2193/2193 [00:00<00:00, 55176.95it/s]\n"
     ]
    },
    {
     "name": "stdout",
     "output_type": "stream",
     "text": [
      "Iteration 4\n"
     ]
    },
    {
     "name": "stderr",
     "output_type": "stream",
     "text": [
      "100%|██████████| 10000/10000 [00:00<00:00, 54932.92it/s]\n",
      "100%|██████████| 10000/10000 [00:00<00:00, 55563.93it/s]\n",
      "100%|██████████| 10000/10000 [00:00<00:00, 58147.30it/s]\n",
      "100%|██████████| 10000/10000 [00:00<00:00, 54624.64it/s]\n",
      "100%|██████████| 10000/10000 [00:00<00:00, 58815.42it/s]\n",
      "100%|██████████| 10000/10000 [00:00<00:00, 61350.28it/s]\n",
      "100%|██████████| 10000/10000 [00:00<00:00, 60276.24it/s]\n",
      "100%|██████████| 10000/10000 [00:00<00:00, 61058.41it/s]\n",
      "100%|██████████| 10000/10000 [00:00<00:00, 62262.64it/s]\n",
      "100%|██████████| 10000/10000 [00:00<00:00, 60232.96it/s]\n",
      "100%|██████████| 10000/10000 [00:00<00:00, 53087.68it/s]\n",
      "100%|██████████| 10000/10000 [00:00<00:00, 74431.36it/s]\n",
      "100%|██████████| 10000/10000 [00:00<00:00, 77067.03it/s]\n",
      "100%|██████████| 10000/10000 [00:00<00:00, 72479.29it/s]\n",
      "100%|██████████| 2193/2193 [00:00<00:00, 53346.18it/s]\n"
     ]
    },
    {
     "name": "stdout",
     "output_type": "stream",
     "text": [
      "Iteration 5\n"
     ]
    },
    {
     "name": "stderr",
     "output_type": "stream",
     "text": [
      "100%|██████████| 10000/10000 [00:00<00:00, 75762.93it/s]\n",
      "100%|██████████| 10000/10000 [00:00<00:00, 75056.98it/s]\n",
      "100%|██████████| 10000/10000 [00:00<00:00, 59768.35it/s]\n",
      "100%|██████████| 10000/10000 [00:00<00:00, 76180.71it/s]\n",
      "100%|██████████| 10000/10000 [00:00<00:00, 73051.77it/s]\n",
      "100%|██████████| 10000/10000 [00:00<00:00, 70444.08it/s]\n",
      "100%|██████████| 10000/10000 [00:00<00:00, 73898.54it/s]\n",
      "100%|██████████| 10000/10000 [00:00<00:00, 75940.02it/s]\n",
      "100%|██████████| 10000/10000 [00:00<00:00, 76048.24it/s]\n",
      "100%|██████████| 10000/10000 [00:00<00:00, 64596.52it/s]\n",
      "100%|██████████| 10000/10000 [00:00<00:00, 58786.48it/s]\n",
      "100%|██████████| 10000/10000 [00:00<00:00, 52678.17it/s]\n",
      "100%|██████████| 10000/10000 [00:00<00:00, 50196.26it/s]\n",
      "100%|██████████| 10000/10000 [00:00<00:00, 57939.42it/s]\n",
      "100%|██████████| 2193/2193 [00:00<00:00, 50353.42it/s]\n"
     ]
    },
    {
     "name": "stdout",
     "output_type": "stream",
     "text": [
      "Iteration 6\n"
     ]
    },
    {
     "name": "stderr",
     "output_type": "stream",
     "text": [
      "100%|██████████| 10000/10000 [00:00<00:00, 64837.88it/s]\n",
      "100%|██████████| 10000/10000 [00:00<00:00, 48163.17it/s]\n",
      "100%|██████████| 10000/10000 [00:00<00:00, 52525.45it/s]\n",
      "100%|██████████| 10000/10000 [00:00<00:00, 57785.52it/s]\n",
      "100%|██████████| 10000/10000 [00:00<00:00, 57372.83it/s]\n",
      "100%|██████████| 10000/10000 [00:00<00:00, 55944.57it/s]\n",
      "100%|██████████| 10000/10000 [00:00<00:00, 69463.74it/s]\n",
      "100%|██████████| 10000/10000 [00:00<00:00, 71559.28it/s]\n",
      "100%|██████████| 10000/10000 [00:00<00:00, 70418.30it/s]\n",
      "100%|██████████| 10000/10000 [00:00<00:00, 65152.21it/s]\n",
      "100%|██████████| 10000/10000 [00:00<00:00, 65971.10it/s]\n",
      "100%|██████████| 10000/10000 [00:00<00:00, 68616.11it/s]\n",
      "100%|██████████| 10000/10000 [00:00<00:00, 70419.95it/s]\n",
      "100%|██████████| 10000/10000 [00:00<00:00, 71853.86it/s]\n",
      "100%|██████████| 2193/2193 [00:00<00:00, 88148.39it/s]\n"
     ]
    },
    {
     "name": "stdout",
     "output_type": "stream",
     "text": [
      "Iteration 7\n"
     ]
    },
    {
     "name": "stderr",
     "output_type": "stream",
     "text": [
      "100%|██████████| 10000/10000 [00:00<00:00, 60181.62it/s]\n",
      "100%|██████████| 10000/10000 [00:00<00:00, 63658.47it/s]\n",
      "100%|██████████| 10000/10000 [00:00<00:00, 75674.08it/s]\n",
      "100%|██████████| 10000/10000 [00:00<00:00, 72189.88it/s]\n",
      "100%|██████████| 10000/10000 [00:00<00:00, 71475.99it/s]\n",
      "100%|██████████| 10000/10000 [00:00<00:00, 65566.73it/s]\n",
      "100%|██████████| 10000/10000 [00:00<00:00, 69777.03it/s]\n",
      "100%|██████████| 10000/10000 [00:00<00:00, 73649.40it/s]\n",
      "100%|██████████| 10000/10000 [00:00<00:00, 72116.52it/s]\n",
      "100%|██████████| 10000/10000 [00:00<00:00, 76249.81it/s]\n",
      "100%|██████████| 10000/10000 [00:00<00:00, 74834.81it/s]\n",
      "100%|██████████| 10000/10000 [00:00<00:00, 69785.15it/s]\n",
      "100%|██████████| 10000/10000 [00:00<00:00, 62373.75it/s]\n",
      "100%|██████████| 10000/10000 [00:00<00:00, 48059.03it/s]\n",
      "100%|██████████| 2193/2193 [00:00<00:00, 47168.34it/s]\n"
     ]
    },
    {
     "name": "stdout",
     "output_type": "stream",
     "text": [
      "Iteration 8\n"
     ]
    },
    {
     "name": "stderr",
     "output_type": "stream",
     "text": [
      "100%|██████████| 10000/10000 [00:00<00:00, 55719.01it/s]\n",
      "100%|██████████| 10000/10000 [00:00<00:00, 62303.98it/s]\n",
      "100%|██████████| 10000/10000 [00:00<00:00, 53348.60it/s]\n",
      "100%|██████████| 10000/10000 [00:00<00:00, 61113.66it/s]\n",
      "100%|██████████| 10000/10000 [00:00<00:00, 58492.99it/s]\n",
      "100%|██████████| 10000/10000 [00:00<00:00, 50824.96it/s]\n",
      "100%|██████████| 10000/10000 [00:00<00:00, 53117.74it/s]\n",
      "100%|██████████| 10000/10000 [00:00<00:00, 57277.48it/s]\n",
      "100%|██████████| 10000/10000 [00:00<00:00, 47974.65it/s]\n",
      "100%|██████████| 10000/10000 [00:00<00:00, 61311.54it/s]\n",
      "100%|██████████| 10000/10000 [00:00<00:00, 64227.47it/s]\n",
      "100%|██████████| 10000/10000 [00:00<00:00, 61821.13it/s]\n",
      "100%|██████████| 10000/10000 [00:00<00:00, 62543.12it/s]\n",
      "100%|██████████| 10000/10000 [00:00<00:00, 56379.98it/s]\n",
      "100%|██████████| 2193/2193 [00:00<00:00, 53318.35it/s]\n"
     ]
    },
    {
     "name": "stdout",
     "output_type": "stream",
     "text": [
      "Iteration 9\n"
     ]
    },
    {
     "name": "stderr",
     "output_type": "stream",
     "text": [
      "100%|██████████| 10000/10000 [00:00<00:00, 55753.89it/s]\n",
      "100%|██████████| 10000/10000 [00:00<00:00, 47533.29it/s]\n",
      "100%|██████████| 10000/10000 [00:00<00:00, 56436.12it/s]\n",
      "100%|██████████| 10000/10000 [00:00<00:00, 48451.25it/s]\n",
      "100%|██████████| 10000/10000 [00:00<00:00, 67665.78it/s]\n",
      "100%|██████████| 10000/10000 [00:00<00:00, 59608.49it/s]\n",
      "100%|██████████| 10000/10000 [00:00<00:00, 63314.65it/s]\n",
      "100%|██████████| 10000/10000 [00:00<00:00, 54607.01it/s]\n",
      "100%|██████████| 10000/10000 [00:00<00:00, 53504.99it/s]\n",
      "100%|██████████| 10000/10000 [00:00<00:00, 56630.81it/s]\n",
      "100%|██████████| 10000/10000 [00:00<00:00, 50837.83it/s]\n",
      "100%|██████████| 10000/10000 [00:00<00:00, 60820.60it/s]\n",
      "100%|██████████| 10000/10000 [00:00<00:00, 52895.14it/s]\n",
      "100%|██████████| 10000/10000 [00:00<00:00, 51474.65it/s]\n",
      "100%|██████████| 2193/2193 [00:00<00:00, 48728.60it/s]\n"
     ]
    },
    {
     "name": "stdout",
     "output_type": "stream",
     "text": [
      "Early stopping by Q\n",
      "Final weights: self.weights=array([ 0.09295997, -0.15250281,  0.0117664 ,  0.03157326,  0.31719273,\n",
      "       -0.121901  , -0.02488618,  0.73885447,  0.02965606, -0.13024981,\n",
      "       -0.14281554,  0.53805832,  0.03710255, -0.46859027])\n",
      "Final Q: self._calculate_accurate_Q(X_train, y_train)=np.float64(0.9568218945542193)\n"
     ]
    }
   ],
   "source": [
    "loss = model.fit(X, y, n_iters=30, batch_size=10000, stop_threshold=0.0001, weights_init_method=\"multistart\", batch_generation=\"random\", n_attempts=10)"
   ]
  },
  {
   "cell_type": "code",
   "execution_count": 19,
   "id": "29d396a5-875d-408a-a2b7-809b9bbf8ad7",
   "metadata": {},
   "outputs": [
    {
     "data": {
      "image/png": "[encoded data removed]",
      "text/plain": [
       "<Figure size 640x480 with 1 Axes>"
      ]
     },
     "metadata": {},
     "output_type": "display_data"
    }
   ],
   "source": [
    "plt.plot(np.arange(len(loss)), loss)\n",
    "plt.xlabel(\"Итерация\")\n",
    "plt.ylabel(\"Loss\")\n",
    "plt.grid()\n",
    "plt.show()"
   ]
  },
  {
   "cell_type": "markdown",
   "id": "2ff9dc7a-5a38-4ce0-a0df-17f78aedd32e",
   "metadata": {},
   "source": [
    "# Анализ весов модели"
   ]
  },
  {
   "cell_type": "code",
   "execution_count": 20,
   "id": "8cc554c5-bb04-4246-96e0-0cb3a7c6494f",
   "metadata": {},
   "outputs": [
    {
     "data": {
      "image/png": "[encoded data removed]",
      "text/plain": [
       "<Figure size 1500x1000 with 1 Axes>"
      ]
     },
     "metadata": {},
     "output_type": "display_data"
    }
   ],
   "source": [
    "import seaborn as sns\n",
    "import numpy as np\n",
    "\n",
    "labels = dataset.columns.to_list()[:-1]\n",
    "feature_indices = np.argsort(model.weights[:-1])[::-1]\n",
    "plot = sns.barplot(y=np.array(labels)[feature_indices], x=model.weights[feature_indices])\n",
    "plt.xlabel(\"feature weight\", size=\"14\")\n",
    "plot.figure.set_size_inches(15, 10)"
   ]
  },
  {
   "cell_type": "markdown",
   "id": "865376d7-2e1d-4a9d-8df5-653c11ea5a36",
   "metadata": {},
   "source": [
    "# Получение отступов"
   ]
  },
  {
   "cell_type": "code",
   "execution_count": 27,
   "id": "418fed81",
   "metadata": {},
   "outputs": [
    {
     "data": {
      "image/png": "[encoded data removed]",
      "text/plain": [
       "<Figure size 640x480 with 1 Axes>"
      ]
     },
     "metadata": {},
     "output_type": "display_data"
    }
   ],
   "source": [
    "import matplotlib.pyplot as plt\n",
    "\n",
    "margins = model._get_batched_margin(X_test, y_test)\n",
    "margins.sort()\n",
    "\n",
    "plt.plot(np.arange(len(margins)), margins)\n",
    "plt.axline((0, 0), (2000, 0), color=\"black\", linestyle=\"--\")\n",
    "plt.xlabel(\"n_samples\", size=\"14\")\n",
    "plt.ylabel(\"margin\", size=\"14\")\n",
    "plt.grid()\n",
    "plt.show()"
   ]
  },
  {
   "cell_type": "markdown",
   "id": "add69f38-39c7-4af8-a362-078d5d1c2e06",
   "metadata": {},
   "source": [
    "# Расчет метрик"
   ]
  },
  {
   "cell_type": "code",
   "execution_count": 22,
   "id": "533cc497-2f3e-44b6-a5b6-1d3ee3cab0b9",
   "metadata": {},
   "outputs": [],
   "source": [
    "from classifier import MetricsEstimator\n",
    "\n",
    "estimator = MetricsEstimator()"
   ]
  },
  {
   "cell_type": "code",
   "execution_count": 23,
   "id": "5541d1ba-9e25-477b-9034-806a37fc641a",
   "metadata": {},
   "outputs": [],
   "source": [
    "estimator.get_metrics(y_true=y_test, y_pred=model.predict(X_test, mode=\"class\"))"
   ]
  },
  {
   "cell_type": "code",
   "execution_count": 24,
   "id": "9ed45a5c-4770-453c-b85a-fb28eb1470c8",
   "metadata": {},
   "outputs": [
    {
     "name": "stdout",
     "output_type": "stream",
     "text": [
      "accuracy = 0.77035\n",
      "precision = 0.49271083225687395\n",
      "recall = 0.5914931324767391\n",
      "f1_score = 0.5376019329507702\n"
     ]
    }
   ],
   "source": [
    "print(estimator)"
   ]
  },
  {
   "cell_type": "markdown",
   "id": "1a31a96c-2030-476b-b4ed-bb6d10492f29",
   "metadata": {},
   "source": [
    "# Обучение эталонной версии"
   ]
  },
  {
   "cell_type": "code",
   "execution_count": 206,
   "id": "797e76a8-9863-444f-a323-1354a949f9b3",
   "metadata": {},
   "outputs": [
    {
     "data": {
      "text/html": [
       "<style>#sk-container-id-4 {\n",
       "  /* Definition of color scheme common for light and dark mode */\n",
       "  --sklearn-color-text: #000;\n",
       "  --sklearn-color-text-muted: #666;\n",
       "  --sklearn-color-line: gray;\n",
       "  /* Definition of color scheme for unfitted estimators */\n",
       "  --sklearn-color-unfitted-level-0: #fff5e6;\n",
       "  --sklearn-color-unfitted-level-1: #f6e4d2;\n",
       "  --sklearn-color-unfitted-level-2: #ffe0b3;\n",
       "  --sklearn-color-unfitted-level-3: chocolate;\n",
       "  /* Definition of color scheme for fitted estimators */\n",
       "  --sklearn-color-fitted-level-0: #f0f8ff;\n",
       "  --sklearn-color-fitted-level-1: #d4ebff;\n",
       "  --sklearn-color-fitted-level-2: #b3dbfd;\n",
       "  --sklearn-color-fitted-level-3: cornflowerblue;\n",
       "\n",
       "  /* Specific color for light theme */\n",
       "  --sklearn-color-text-on-default-background: var(--sg-text-color, var(--theme-code-foreground, var(--jp-content-font-color1, black)));\n",
       "  --sklearn-color-background: var(--sg-background-color, var(--theme-background, var(--jp-layout-color0, white)));\n",
       "  --sklearn-color-border-box: var(--sg-text-color, var(--theme-code-foreground, var(--jp-content-font-color1, black)));\n",
       "  --sklearn-color-icon: #696969;\n",
       "\n",
       "  @media (prefers-color-scheme: dark) {\n",
       "    /* Redefinition of color scheme for dark theme */\n",
       "    --sklearn-color-text-on-default-background: var(--sg-text-color, var(--theme-code-foreground, var(--jp-content-font-color1, white)));\n",
       "    --sklearn-color-background: var(--sg-background-color, var(--theme-background, var(--jp-layout-color0, #111)));\n",
       "    --sklearn-color-border-box: var(--sg-text-color, var(--theme-code-foreground, var(--jp-content-font-color1, white)));\n",
       "    --sklearn-color-icon: #878787;\n",
       "  }\n",
       "}\n",
       "\n",
       "#sk-container-id-4 {\n",
       "  color: var(--sklearn-color-text);\n",
       "}\n",
       "\n",
       "#sk-container-id-4 pre {\n",
       "  padding: 0;\n",
       "}\n",
       "\n",
       "#sk-container-id-4 input.sk-hidden--visually {\n",
       "  border: 0;\n",
       "  clip: rect(1px 1px 1px 1px);\n",
       "  clip: rect(1px, 1px, 1px, 1px);\n",
       "  height: 1px;\n",
       "  margin: -1px;\n",
       "  overflow: hidden;\n",
       "  padding: 0;\n",
       "  position: absolute;\n",
       "  width: 1px;\n",
       "}\n",
       "\n",
       "#sk-container-id-4 div.sk-dashed-wrapped {\n",
       "  border: 1px dashed var(--sklearn-color-line);\n",
       "  margin: 0 0.4em 0.5em 0.4em;\n",
       "  box-sizing: border-box;\n",
       "  padding-bottom: 0.4em;\n",
       "  background-color: var(--sklearn-color-background);\n",
       "}\n",
       "\n",
       "#sk-container-id-4 div.sk-container {\n",
       "  /* jupyter's `normalize.less` sets `[hidden] { display: none; }`\n",
       "     but bootstrap.min.css set `[hidden] { display: none !important; }`\n",
       "     so we also need the `!important` here to be able to override the\n",
       "     default hidden behavior on the sphinx rendered scikit-learn.org.\n",
       "     See: https://github.com/scikit-learn/scikit-learn/issues/21755 */\n",
       "  display: inline-block !important;\n",
       "  position: relative;\n",
       "}\n",
       "\n",
       "#sk-container-id-4 div.sk-text-repr-fallback {\n",
       "  display: none;\n",
       "}\n",
       "\n",
       "div.sk-parallel-item,\n",
       "div.sk-serial,\n",
       "div.sk-item {\n",
       "  /* draw centered vertical line to link estimators */\n",
       "  background-image: linear-gradient(var(--sklearn-color-text-on-default-background), var(--sklearn-color-text-on-default-background));\n",
       "  background-size: 2px 100%;\n",
       "  background-repeat: no-repeat;\n",
       "  background-position: center center;\n",
       "}\n",
       "\n",
       "/* Parallel-specific style estimator block */\n",
       "\n",
       "#sk-container-id-4 div.sk-parallel-item::after {\n",
       "  content: \"\";\n",
       "  width: 100%;\n",
       "  border-bottom: 2px solid var(--sklearn-color-text-on-default-background);\n",
       "  flex-grow: 1;\n",
       "}\n",
       "\n",
       "#sk-container-id-4 div.sk-parallel {\n",
       "  display: flex;\n",
       "  align-items: stretch;\n",
       "  justify-content: center;\n",
       "  background-color: var(--sklearn-color-background);\n",
       "  position: relative;\n",
       "}\n",
       "\n",
       "#sk-container-id-4 div.sk-parallel-item {\n",
       "  display: flex;\n",
       "  flex-direction: column;\n",
       "}\n",
       "\n",
       "#sk-container-id-4 div.sk-parallel-item:first-child::after {\n",
       "  align-self: flex-end;\n",
       "  width: 50%;\n",
       "}\n",
       "\n",
       "#sk-container-id-4 div.sk-parallel-item:last-child::after {\n",
       "  align-self: flex-start;\n",
       "  width: 50%;\n",
       "}\n",
       "\n",
       "#sk-container-id-4 div.sk-parallel-item:only-child::after {\n",
       "  width: 0;\n",
       "}\n",
       "\n",
       "/* Serial-specific style estimator block */\n",
       "\n",
       "#sk-container-id-4 div.sk-serial {\n",
       "  display: flex;\n",
       "  flex-direction: column;\n",
       "  align-items: center;\n",
       "  background-color: var(--sklearn-color-background);\n",
       "  padding-right: 1em;\n",
       "  padding-left: 1em;\n",
       "}\n",
       "\n",
       "\n",
       "/* Toggleable style: style used for estimator/Pipeline/ColumnTransformer box that is\n",
       "clickable and can be expanded/collapsed.\n",
       "- Pipeline and ColumnTransformer use this feature and define the default style\n",
       "- Estimators will overwrite some part of the style using the `sk-estimator` class\n",
       "*/\n",
       "\n",
       "/* Pipeline and ColumnTransformer style (default) */\n",
       "\n",
       "#sk-container-id-4 div.sk-toggleable {\n",
       "  /* Default theme specific background. It is overwritten whether we have a\n",
       "  specific estimator or a Pipeline/ColumnTransformer */\n",
       "  background-color: var(--sklearn-color-background);\n",
       "}\n",
       "\n",
       "/* Toggleable label */\n",
       "#sk-container-id-4 label.sk-toggleable__label {\n",
       "  cursor: pointer;\n",
       "  display: flex;\n",
       "  width: 100%;\n",
       "  margin-bottom: 0;\n",
       "  padding: 0.5em;\n",
       "  box-sizing: border-box;\n",
       "  text-align: center;\n",
       "  align-items: start;\n",
       "  justify-content: space-between;\n",
       "  gap: 0.5em;\n",
       "}\n",
       "\n",
       "#sk-container-id-4 label.sk-toggleable__label .caption {\n",
       "  font-size: 0.6rem;\n",
       "  font-weight: lighter;\n",
       "  color: var(--sklearn-color-text-muted);\n",
       "}\n",
       "\n",
       "#sk-container-id-4 label.sk-toggleable__label-arrow:before {\n",
       "  /* Arrow on the left of the label */\n",
       "  content: \"▸\";\n",
       "  float: left;\n",
       "  margin-right: 0.25em;\n",
       "  color: var(--sklearn-color-icon);\n",
       "}\n",
       "\n",
       "#sk-container-id-4 label.sk-toggleable__label-arrow:hover:before {\n",
       "  color: var(--sklearn-color-text);\n",
       "}\n",
       "\n",
       "/* Toggleable content - dropdown */\n",
       "\n",
       "#sk-container-id-4 div.sk-toggleable__content {\n",
       "  display: none;\n",
       "  text-align: left;\n",
       "  /* unfitted */\n",
       "  background-color: var(--sklearn-color-unfitted-level-0);\n",
       "}\n",
       "\n",
       "#sk-container-id-4 div.sk-toggleable__content.fitted {\n",
       "  /* fitted */\n",
       "  background-color: var(--sklearn-color-fitted-level-0);\n",
       "}\n",
       "\n",
       "#sk-container-id-4 div.sk-toggleable__content pre {\n",
       "  margin: 0.2em;\n",
       "  border-radius: 0.25em;\n",
       "  color: var(--sklearn-color-text);\n",
       "  /* unfitted */\n",
       "  background-color: var(--sklearn-color-unfitted-level-0);\n",
       "}\n",
       "\n",
       "#sk-container-id-4 div.sk-toggleable__content.fitted pre {\n",
       "  /* unfitted */\n",
       "  background-color: var(--sklearn-color-fitted-level-0);\n",
       "}\n",
       "\n",
       "#sk-container-id-4 input.sk-toggleable__control:checked~div.sk-toggleable__content {\n",
       "  /* Expand drop-down */\n",
       "  display: block;\n",
       "  width: 100%;\n",
       "  overflow: visible;\n",
       "}\n",
       "\n",
       "#sk-container-id-4 input.sk-toggleable__control:checked~label.sk-toggleable__label-arrow:before {\n",
       "  content: \"▾\";\n",
       "}\n",
       "\n",
       "/* Pipeline/ColumnTransformer-specific style */\n",
       "\n",
       "#sk-container-id-4 div.sk-label input.sk-toggleable__control:checked~label.sk-toggleable__label {\n",
       "  color: var(--sklearn-color-text);\n",
       "  background-color: var(--sklearn-color-unfitted-level-2);\n",
       "}\n",
       "\n",
       "#sk-container-id-4 div.sk-label.fitted input.sk-toggleable__control:checked~label.sk-toggleable__label {\n",
       "  background-color: var(--sklearn-color-fitted-level-2);\n",
       "}\n",
       "\n",
       "/* Estimator-specific style */\n",
       "\n",
       "/* Colorize estimator box */\n",
       "#sk-container-id-4 div.sk-estimator input.sk-toggleable__control:checked~label.sk-toggleable__label {\n",
       "  /* unfitted */\n",
       "  background-color: var(--sklearn-color-unfitted-level-2);\n",
       "}\n",
       "\n",
       "#sk-container-id-4 div.sk-estimator.fitted input.sk-toggleable__control:checked~label.sk-toggleable__label {\n",
       "  /* fitted */\n",
       "  background-color: var(--sklearn-color-fitted-level-2);\n",
       "}\n",
       "\n",
       "#sk-container-id-4 div.sk-label label.sk-toggleable__label,\n",
       "#sk-container-id-4 div.sk-label label {\n",
       "  /* The background is the default theme color */\n",
       "  color: var(--sklearn-color-text-on-default-background);\n",
       "}\n",
       "\n",
       "/* On hover, darken the color of the background */\n",
       "#sk-container-id-4 div.sk-label:hover label.sk-toggleable__label {\n",
       "  color: var(--sklearn-color-text);\n",
       "  background-color: var(--sklearn-color-unfitted-level-2);\n",
       "}\n",
       "\n",
       "/* Label box, darken color on hover, fitted */\n",
       "#sk-container-id-4 div.sk-label.fitted:hover label.sk-toggleable__label.fitted {\n",
       "  color: var(--sklearn-color-text);\n",
       "  background-color: var(--sklearn-color-fitted-level-2);\n",
       "}\n",
       "\n",
       "/* Estimator label */\n",
       "\n",
       "#sk-container-id-4 div.sk-label label {\n",
       "  font-family: monospace;\n",
       "  font-weight: bold;\n",
       "  display: inline-block;\n",
       "  line-height: 1.2em;\n",
       "}\n",
       "\n",
       "#sk-container-id-4 div.sk-label-container {\n",
       "  text-align: center;\n",
       "}\n",
       "\n",
       "/* Estimator-specific */\n",
       "#sk-container-id-4 div.sk-estimator {\n",
       "  font-family: monospace;\n",
       "  border: 1px dotted var(--sklearn-color-border-box);\n",
       "  border-radius: 0.25em;\n",
       "  box-sizing: border-box;\n",
       "  margin-bottom: 0.5em;\n",
       "  /* unfitted */\n",
       "  background-color: var(--sklearn-color-unfitted-level-0);\n",
       "}\n",
       "\n",
       "#sk-container-id-4 div.sk-estimator.fitted {\n",
       "  /* fitted */\n",
       "  background-color: var(--sklearn-color-fitted-level-0);\n",
       "}\n",
       "\n",
       "/* on hover */\n",
       "#sk-container-id-4 div.sk-estimator:hover {\n",
       "  /* unfitted */\n",
       "  background-color: var(--sklearn-color-unfitted-level-2);\n",
       "}\n",
       "\n",
       "#sk-container-id-4 div.sk-estimator.fitted:hover {\n",
       "  /* fitted */\n",
       "  background-color: var(--sklearn-color-fitted-level-2);\n",
       "}\n",
       "\n",
       "/* Specification for estimator info (e.g. \"i\" and \"?\") */\n",
       "\n",
       "/* Common style for \"i\" and \"?\" */\n",
       "\n",
       ".sk-estimator-doc-link,\n",
       "a:link.sk-estimator-doc-link,\n",
       "a:visited.sk-estimator-doc-link {\n",
       "  float: right;\n",
       "  font-size: smaller;\n",
       "  line-height: 1em;\n",
       "  font-family: monospace;\n",
       "  background-color: var(--sklearn-color-background);\n",
       "  border-radius: 1em;\n",
       "  height: 1em;\n",
       "  width: 1em;\n",
       "  text-decoration: none !important;\n",
       "  margin-left: 0.5em;\n",
       "  text-align: center;\n",
       "  /* unfitted */\n",
       "  border: var(--sklearn-color-unfitted-level-1) 1pt solid;\n",
       "  color: var(--sklearn-color-unfitted-level-1);\n",
       "}\n",
       "\n",
       ".sk-estimator-doc-link.fitted,\n",
       "a:link.sk-estimator-doc-link.fitted,\n",
       "a:visited.sk-estimator-doc-link.fitted {\n",
       "  /* fitted */\n",
       "  border: var(--sklearn-color-fitted-level-1) 1pt solid;\n",
       "  color: var(--sklearn-color-fitted-level-1);\n",
       "}\n",
       "\n",
       "/* On hover */\n",
       "div.sk-estimator:hover .sk-estimator-doc-link:hover,\n",
       ".sk-estimator-doc-link:hover,\n",
       "div.sk-label-container:hover .sk-estimator-doc-link:hover,\n",
       ".sk-estimator-doc-link:hover {\n",
       "  /* unfitted */\n",
       "  background-color: var(--sklearn-color-unfitted-level-3);\n",
       "  color: var(--sklearn-color-background);\n",
       "  text-decoration: none;\n",
       "}\n",
       "\n",
       "div.sk-estimator.fitted:hover .sk-estimator-doc-link.fitted:hover,\n",
       ".sk-estimator-doc-link.fitted:hover,\n",
       "div.sk-label-container:hover .sk-estimator-doc-link.fitted:hover,\n",
       ".sk-estimator-doc-link.fitted:hover {\n",
       "  /* fitted */\n",
       "  background-color: var(--sklearn-color-fitted-level-3);\n",
       "  color: var(--sklearn-color-background);\n",
       "  text-decoration: none;\n",
       "}\n",
       "\n",
       "/* Span, style for the box shown on hovering the info icon */\n",
       ".sk-estimator-doc-link span {\n",
       "  display: none;\n",
       "  z-index: 9999;\n",
       "  position: relative;\n",
       "  font-weight: normal;\n",
       "  right: .2ex;\n",
       "  padding: .5ex;\n",
       "  margin: .5ex;\n",
       "  width: min-content;\n",
       "  min-width: 20ex;\n",
       "  max-width: 50ex;\n",
       "  color: var(--sklearn-color-text);\n",
       "  box-shadow: 2pt 2pt 4pt #999;\n",
       "  /* unfitted */\n",
       "  background: var(--sklearn-color-unfitted-level-0);\n",
       "  border: .5pt solid var(--sklearn-color-unfitted-level-3);\n",
       "}\n",
       "\n",
       ".sk-estimator-doc-link.fitted span {\n",
       "  /* fitted */\n",
       "  background: var(--sklearn-color-fitted-level-0);\n",
       "  border: var(--sklearn-color-fitted-level-3);\n",
       "}\n",
       "\n",
       ".sk-estimator-doc-link:hover span {\n",
       "  display: block;\n",
       "}\n",
       "\n",
       "/* \"?\"-specific style due to the `<a>` HTML tag */\n",
       "\n",
       "#sk-container-id-4 a.estimator_doc_link {\n",
       "  float: right;\n",
       "  font-size: 1rem;\n",
       "  line-height: 1em;\n",
       "  font-family: monospace;\n",
       "  background-color: var(--sklearn-color-background);\n",
       "  border-radius: 1rem;\n",
       "  height: 1rem;\n",
       "  width: 1rem;\n",
       "  text-decoration: none;\n",
       "  /* unfitted */\n",
       "  color: var(--sklearn-color-unfitted-level-1);\n",
       "  border: var(--sklearn-color-unfitted-level-1) 1pt solid;\n",
       "}\n",
       "\n",
       "#sk-container-id-4 a.estimator_doc_link.fitted {\n",
       "  /* fitted */\n",
       "  border: var(--sklearn-color-fitted-level-1) 1pt solid;\n",
       "  color: var(--sklearn-color-fitted-level-1);\n",
       "}\n",
       "\n",
       "/* On hover */\n",
       "#sk-container-id-4 a.estimator_doc_link:hover {\n",
       "  /* unfitted */\n",
       "  background-color: var(--sklearn-color-unfitted-level-3);\n",
       "  color: var(--sklearn-color-background);\n",
       "  text-decoration: none;\n",
       "}\n",
       "\n",
       "#sk-container-id-4 a.estimator_doc_link.fitted:hover {\n",
       "  /* fitted */\n",
       "  background-color: var(--sklearn-color-fitted-level-3);\n",
       "}\n",
       "\n",
       ".estimator-table summary {\n",
       "    padding: .5rem;\n",
       "    font-family: monospace;\n",
       "    cursor: pointer;\n",
       "}\n",
       "\n",
       ".estimator-table details[open] {\n",
       "    padding-left: 0.1rem;\n",
       "    padding-right: 0.1rem;\n",
       "    padding-bottom: 0.3rem;\n",
       "}\n",
       "\n",
       ".estimator-table .parameters-table {\n",
       "    margin-left: auto !important;\n",
       "    margin-right: auto !important;\n",
       "}\n",
       "\n",
       ".estimator-table .parameters-table tr:nth-child(odd) {\n",
       "    background-color: #fff;\n",
       "}\n",
       "\n",
       ".estimator-table .parameters-table tr:nth-child(even) {\n",
       "    background-color: #f6f6f6;\n",
       "}\n",
       "\n",
       ".estimator-table .parameters-table tr:hover {\n",
       "    background-color: #e0e0e0;\n",
       "}\n",
       "\n",
       ".estimator-table table td {\n",
       "    border: 1px solid rgba(106, 105, 104, 0.232);\n",
       "}\n",
       "\n",
       ".user-set td {\n",
       "    color:rgb(255, 94, 0);\n",
       "    text-align: left;\n",
       "}\n",
       "\n",
       ".user-set td.value pre {\n",
       "    color:rgb(255, 94, 0) !important;\n",
       "    background-color: transparent !important;\n",
       "}\n",
       "\n",
       ".default td {\n",
       "    color: black;\n",
       "    text-align: left;\n",
       "}\n",
       "\n",
       ".user-set td i,\n",
       ".default td i {\n",
       "    color: black;\n",
       "}\n",
       "\n",
       ".copy-paste-icon {\n",
       "    background-image: url(data:image/svg+xml;base64,PHN2ZyB4bWxucz0iaHR0cDovL3d3dy53My5vcmcvMjAwMC9zdmciIHZpZXdCb3g9IjAgMCA0NDggNTEyIj48IS0tIUZvbnQgQXdlc29tZSBGcmVlIDYuNy4yIGJ5IEBmb250YXdlc29tZSAtIGh0dHBzOi8vZm9udGF3ZXNvbWUuY29tIExpY2Vuc2UgLSBodHRwczovL2ZvbnRhd2Vzb21lLmNvbS9saWNlbnNlL2ZyZWUgQ29weXJpZ2h0IDIwMjUgRm9udGljb25zLCBJbmMuLS0+PHBhdGggZD0iTTIwOCAwTDMzMi4xIDBjMTIuNyAwIDI0LjkgNS4xIDMzLjkgMTQuMWw2Ny45IDY3LjljOSA5IDE0LjEgMjEuMiAxNC4xIDMzLjlMNDQ4IDMzNmMwIDI2LjUtMjEuNSA0OC00OCA0OGwtMTkyIDBjLTI2LjUgMC00OC0yMS41LTQ4LTQ4bDAtMjg4YzAtMjYuNSAyMS41LTQ4IDQ4LTQ4ek00OCAxMjhsODAgMCAwIDY0LTY0IDAgMCAyNTYgMTkyIDAgMC0zMiA2NCAwIDAgNDhjMCAyNi41LTIxLjUgNDgtNDggNDhMNDggNTEyYy0yNi41IDAtNDgtMjEuNS00OC00OEwwIDE3NmMwLTI2LjUgMjEuNS00OCA0OC00OHoiLz48L3N2Zz4=);\n",
       "    background-repeat: no-repeat;\n",
       "    background-size: 14px 14px;\n",
       "    background-position: 0;\n",
       "    display: inline-block;\n",
       "    width: 14px;\n",
       "    height: 14px;\n",
       "    cursor: pointer;\n",
       "}\n",
       "</style><body><div id=\"sk-container-id-4\" class=\"sk-top-container\"><div class=\"sk-text-repr-fallback\"><pre>SVC(kernel=&#x27;linear&#x27;)</pre><b>In a Jupyter environment, please rerun this cell to show the HTML representation or trust the notebook. <br />On GitHub, the HTML representation is unable to render, please try loading this page with nbviewer.org.</b></div><div class=\"sk-container\" hidden><div class=\"sk-item\"><div class=\"sk-estimator fitted sk-toggleable\"><input class=\"sk-toggleable__control sk-hidden--visually\" id=\"sk-estimator-id-4\" type=\"checkbox\" checked><label for=\"sk-estimator-id-4\" class=\"sk-toggleable__label fitted sk-toggleable__label-arrow\"><div><div>SVC</div></div><div><a class=\"sk-estimator-doc-link fitted\" rel=\"noreferrer\" target=\"_blank\" href=\"https://scikit-learn.org/1.7/modules/generated/sklearn.svm.SVC.html\">?<span>Documentation for SVC</span></a><span class=\"sk-estimator-doc-link fitted\">i<span>Fitted</span></span></div></label><div class=\"sk-toggleable__content fitted\" data-param-prefix=\"\">\n",
       "        <div class=\"estimator-table\">\n",
       "            <details>\n",
       "                <summary>Parameters</summary>\n",
       "                <table class=\"parameters-table\">\n",
       "                  <tbody>\n",
       "                    \n",
       "        <tr class=\"default\">\n",
       "            <td><i class=\"copy-paste-icon\"\n",
       "                 onclick=\"copyToClipboard('C',\n",
       "                          this.parentElement.nextElementSibling)\"\n",
       "            ></i></td>\n",
       "            <td class=\"param\">C&nbsp;</td>\n",
       "            <td class=\"value\">1.0</td>\n",
       "        </tr>\n",
       "    \n",
       "\n",
       "        <tr class=\"user-set\">\n",
       "            <td><i class=\"copy-paste-icon\"\n",
       "                 onclick=\"copyToClipboard('kernel',\n",
       "                          this.parentElement.nextElementSibling)\"\n",
       "            ></i></td>\n",
       "            <td class=\"param\">kernel&nbsp;</td>\n",
       "            <td class=\"value\">&#x27;linear&#x27;</td>\n",
       "        </tr>\n",
       "    \n",
       "\n",
       "        <tr class=\"default\">\n",
       "            <td><i class=\"copy-paste-icon\"\n",
       "                 onclick=\"copyToClipboard('degree',\n",
       "                          this.parentElement.nextElementSibling)\"\n",
       "            ></i></td>\n",
       "            <td class=\"param\">degree&nbsp;</td>\n",
       "            <td class=\"value\">3</td>\n",
       "        </tr>\n",
       "    \n",
       "\n",
       "        <tr class=\"default\">\n",
       "            <td><i class=\"copy-paste-icon\"\n",
       "                 onclick=\"copyToClipboard('gamma',\n",
       "                          this.parentElement.nextElementSibling)\"\n",
       "            ></i></td>\n",
       "            <td class=\"param\">gamma&nbsp;</td>\n",
       "            <td class=\"value\">&#x27;scale&#x27;</td>\n",
       "        </tr>\n",
       "    \n",
       "\n",
       "        <tr class=\"default\">\n",
       "            <td><i class=\"copy-paste-icon\"\n",
       "                 onclick=\"copyToClipboard('coef0',\n",
       "                          this.parentElement.nextElementSibling)\"\n",
       "            ></i></td>\n",
       "            <td class=\"param\">coef0&nbsp;</td>\n",
       "            <td class=\"value\">0.0</td>\n",
       "        </tr>\n",
       "    \n",
       "\n",
       "        <tr class=\"default\">\n",
       "            <td><i class=\"copy-paste-icon\"\n",
       "                 onclick=\"copyToClipboard('shrinking',\n",
       "                          this.parentElement.nextElementSibling)\"\n",
       "            ></i></td>\n",
       "            <td class=\"param\">shrinking&nbsp;</td>\n",
       "            <td class=\"value\">True</td>\n",
       "        </tr>\n",
       "    \n",
       "\n",
       "        <tr class=\"default\">\n",
       "            <td><i class=\"copy-paste-icon\"\n",
       "                 onclick=\"copyToClipboard('probability',\n",
       "                          this.parentElement.nextElementSibling)\"\n",
       "            ></i></td>\n",
       "            <td class=\"param\">probability&nbsp;</td>\n",
       "            <td class=\"value\">False</td>\n",
       "        </tr>\n",
       "    \n",
       "\n",
       "        <tr class=\"default\">\n",
       "            <td><i class=\"copy-paste-icon\"\n",
       "                 onclick=\"copyToClipboard('tol',\n",
       "                          this.parentElement.nextElementSibling)\"\n",
       "            ></i></td>\n",
       "            <td class=\"param\">tol&nbsp;</td>\n",
       "            <td class=\"value\">0.001</td>\n",
       "        </tr>\n",
       "    \n",
       "\n",
       "        <tr class=\"default\">\n",
       "            <td><i class=\"copy-paste-icon\"\n",
       "                 onclick=\"copyToClipboard('cache_size',\n",
       "                          this.parentElement.nextElementSibling)\"\n",
       "            ></i></td>\n",
       "            <td class=\"param\">cache_size&nbsp;</td>\n",
       "            <td class=\"value\">200</td>\n",
       "        </tr>\n",
       "    \n",
       "\n",
       "        <tr class=\"default\">\n",
       "            <td><i class=\"copy-paste-icon\"\n",
       "                 onclick=\"copyToClipboard('class_weight',\n",
       "                          this.parentElement.nextElementSibling)\"\n",
       "            ></i></td>\n",
       "            <td class=\"param\">class_weight&nbsp;</td>\n",
       "            <td class=\"value\">None</td>\n",
       "        </tr>\n",
       "    \n",
       "\n",
       "        <tr class=\"default\">\n",
       "            <td><i class=\"copy-paste-icon\"\n",
       "                 onclick=\"copyToClipboard('verbose',\n",
       "                          this.parentElement.nextElementSibling)\"\n",
       "            ></i></td>\n",
       "            <td class=\"param\">verbose&nbsp;</td>\n",
       "            <td class=\"value\">False</td>\n",
       "        </tr>\n",
       "    \n",
       "\n",
       "        <tr class=\"default\">\n",
       "            <td><i class=\"copy-paste-icon\"\n",
       "                 onclick=\"copyToClipboard('max_iter',\n",
       "                          this.parentElement.nextElementSibling)\"\n",
       "            ></i></td>\n",
       "            <td class=\"param\">max_iter&nbsp;</td>\n",
       "            <td class=\"value\">-1</td>\n",
       "        </tr>\n",
       "    \n",
       "\n",
       "        <tr class=\"default\">\n",
       "            <td><i class=\"copy-paste-icon\"\n",
       "                 onclick=\"copyToClipboard('decision_function_shape',\n",
       "                          this.parentElement.nextElementSibling)\"\n",
       "            ></i></td>\n",
       "            <td class=\"param\">decision_function_shape&nbsp;</td>\n",
       "            <td class=\"value\">&#x27;ovr&#x27;</td>\n",
       "        </tr>\n",
       "    \n",
       "\n",
       "        <tr class=\"default\">\n",
       "            <td><i class=\"copy-paste-icon\"\n",
       "                 onclick=\"copyToClipboard('break_ties',\n",
       "                          this.parentElement.nextElementSibling)\"\n",
       "            ></i></td>\n",
       "            <td class=\"param\">break_ties&nbsp;</td>\n",
       "            <td class=\"value\">False</td>\n",
       "        </tr>\n",
       "    \n",
       "\n",
       "        <tr class=\"default\">\n",
       "            <td><i class=\"copy-paste-icon\"\n",
       "                 onclick=\"copyToClipboard('random_state',\n",
       "                          this.parentElement.nextElementSibling)\"\n",
       "            ></i></td>\n",
       "            <td class=\"param\">random_state&nbsp;</td>\n",
       "            <td class=\"value\">None</td>\n",
       "        </tr>\n",
       "    \n",
       "                  </tbody>\n",
       "                </table>\n",
       "            </details>\n",
       "        </div>\n",
       "    </div></div></div></div></div><script>function copyToClipboard(text, element) {\n",
       "    // Get the parameter prefix from the closest toggleable content\n",
       "    const toggleableContent = element.closest('.sk-toggleable__content');\n",
       "    const paramPrefix = toggleableContent ? toggleableContent.dataset.paramPrefix : '';\n",
       "    const fullParamName = paramPrefix ? `${paramPrefix}${text}` : text;\n",
       "\n",
       "    const originalStyle = element.style;\n",
       "    const computedStyle = window.getComputedStyle(element);\n",
       "    const originalWidth = computedStyle.width;\n",
       "    const originalHTML = element.innerHTML.replace('Copied!', '');\n",
       "\n",
       "    navigator.clipboard.writeText(fullParamName)\n",
       "        .then(() => {\n",
       "            element.style.width = originalWidth;\n",
       "            element.style.color = 'green';\n",
       "            element.innerHTML = \"Copied!\";\n",
       "\n",
       "            setTimeout(() => {\n",
       "                element.innerHTML = originalHTML;\n",
       "                element.style = originalStyle;\n",
       "            }, 2000);\n",
       "        })\n",
       "        .catch(err => {\n",
       "            console.error('Failed to copy:', err);\n",
       "            element.style.color = 'red';\n",
       "            element.innerHTML = \"Failed!\";\n",
       "            setTimeout(() => {\n",
       "                element.innerHTML = originalHTML;\n",
       "                element.style = originalStyle;\n",
       "            }, 2000);\n",
       "        });\n",
       "    return false;\n",
       "}\n",
       "\n",
       "document.querySelectorAll('.fa-regular.fa-copy').forEach(function(element) {\n",
       "    const toggleableContent = element.closest('.sk-toggleable__content');\n",
       "    const paramPrefix = toggleableContent ? toggleableContent.dataset.paramPrefix : '';\n",
       "    const paramName = element.parentElement.nextElementSibling.textContent.trim();\n",
       "    const fullParamName = paramPrefix ? `${paramPrefix}${paramName}` : paramName;\n",
       "\n",
       "    element.setAttribute('title', fullParamName);\n",
       "});\n",
       "</script></body>"
      ],
      "text/plain": [
       "SVC(kernel='linear')"
      ]
     },
     "execution_count": 206,
     "metadata": {},
     "output_type": "execute_result"
    }
   ],
   "source": [
    "from sklearn import svm\n",
    "\n",
    "classifier = svm.SVC(kernel='linear')\n",
    "classifier.fit(X_train, y_train)"
   ]
  },
  {
   "cell_type": "code",
   "execution_count": 207,
   "id": "b2e1a785-d2aa-446e-86ab-9242917ae30d",
   "metadata": {},
   "outputs": [],
   "source": [
    "y_pred = classifier.predict(X_test)"
   ]
  },
  {
   "cell_type": "code",
   "execution_count": 208,
   "id": "89dec088-f3fb-4769-a9eb-b2265c43e9aa",
   "metadata": {},
   "outputs": [
    {
     "name": "stdout",
     "output_type": "stream",
     "text": [
      "accuracy = 0.8427\n",
      "precision = 0.7650440781908777\n",
      "recall = 0.4407153897107529\n",
      "f1_score = 0.5592602970019613\n"
     ]
    }
   ],
   "source": [
    "estimator.get_metrics(y_true=y_test, y_pred=y_pred)\n",
    "print(estimator)"
   ]
  },
  {
   "cell_type": "code",
   "execution_count": null,
   "id": "d3071030-7f04-44ee-8192-d1d38862ccf7",
   "metadata": {},
   "outputs": [],
   "source": []
  }
 ],
 "metadata": {
  "kernelspec": {
   "display_name": "venv",
   "language": "python",
   "name": "python3"
  },
  "language_info": {
   "codemirror_mode": {
    "name": "ipython",
    "version": 3
   },
   "file_extension": ".py",
   "mimetype": "text/x-python",
   "name": "python",
   "nbconvert_exporter": "python",
   "pygments_lexer": "ipython3",
   "version": "3.12.10"
  }
 },
 "nbformat": 4,
 "nbformat_minor": 5
}
